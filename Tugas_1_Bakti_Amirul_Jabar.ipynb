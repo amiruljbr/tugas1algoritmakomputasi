{
  "nbformat": 4,
  "nbformat_minor": 0,
  "metadata": {
    "colab": {
      "provenance": []
    },
    "kernelspec": {
      "name": "python3",
      "display_name": "Python 3"
    },
    "language_info": {
      "name": "python"
    }
  },
  "cells": [
    {
      "cell_type": "markdown",
      "source": [
        "# Tugas 1 Algoritma dan Komputasi"
      ],
      "metadata": {
        "id": "ZhVb3l-hSs1a"
      }
    },
    {
      "cell_type": "markdown",
      "source": [
        "Nama: Bakti Amirul Jabar\n",
        "NIM: 25/569253/SPA/01134"
      ],
      "metadata": {
        "id": "MtYEwy592Rmj"
      }
    },
    {
      "cell_type": "markdown",
      "source": [
        "## Data Preparation"
      ],
      "metadata": {
        "id": "cpixpogWSaYy"
      }
    },
    {
      "cell_type": "code",
      "source": [
        "#import library\n",
        "import pandas as pd\n",
        "import numpy as np\n",
        "import matplotlib.pyplot as plt\n",
        "from sklearn.model_selection import train_test_split"
      ],
      "metadata": {
        "id": "fzHLZxgj2Uyb"
      },
      "execution_count": 89,
      "outputs": []
    },
    {
      "cell_type": "code",
      "source": [
        "#Import dataset\n",
        "url = f\"https://docs.google.com/spreadsheets/d/1yhi8ASebpmljJ3NpYQ7NmxlWLmhGOI6W/export?format=csv\"\n",
        "\n",
        "df = pd.read_csv(url, header=None)"
      ],
      "metadata": {
        "id": "FfJYh3tQRO-j"
      },
      "execution_count": 90,
      "outputs": []
    },
    {
      "cell_type": "code",
      "source": [
        "df.head()"
      ],
      "metadata": {
        "colab": {
          "base_uri": "https://localhost:8080/",
          "height": 206
        },
        "id": "4pEEaeskRxVL",
        "outputId": "ee19290e-7cf2-400d-c228-10d5dd6d40f8"
      },
      "execution_count": 91,
      "outputs": [
        {
          "output_type": "execute_result",
          "data": {
            "text/plain": [
              "     0    1    2    3            4\n",
              "0  5.1  3.5  1.4  0.2  Iris-setosa\n",
              "1  4.9  3.0  1.4  0.2  Iris-setosa\n",
              "2  4.7  3.2  1.3  0.2  Iris-setosa\n",
              "3  4.6  3.1  1.5  0.2  Iris-setosa\n",
              "4  5.0  3.6  1.4  0.2  Iris-setosa"
            ],
            "text/html": [
              "\n",
              "  <div id=\"df-45b20fbb-8e88-4fe4-9da1-93d7c20dd789\" class=\"colab-df-container\">\n",
              "    <div>\n",
              "<style scoped>\n",
              "    .dataframe tbody tr th:only-of-type {\n",
              "        vertical-align: middle;\n",
              "    }\n",
              "\n",
              "    .dataframe tbody tr th {\n",
              "        vertical-align: top;\n",
              "    }\n",
              "\n",
              "    .dataframe thead th {\n",
              "        text-align: right;\n",
              "    }\n",
              "</style>\n",
              "<table border=\"1\" class=\"dataframe\">\n",
              "  <thead>\n",
              "    <tr style=\"text-align: right;\">\n",
              "      <th></th>\n",
              "      <th>0</th>\n",
              "      <th>1</th>\n",
              "      <th>2</th>\n",
              "      <th>3</th>\n",
              "      <th>4</th>\n",
              "    </tr>\n",
              "  </thead>\n",
              "  <tbody>\n",
              "    <tr>\n",
              "      <th>0</th>\n",
              "      <td>5.1</td>\n",
              "      <td>3.5</td>\n",
              "      <td>1.4</td>\n",
              "      <td>0.2</td>\n",
              "      <td>Iris-setosa</td>\n",
              "    </tr>\n",
              "    <tr>\n",
              "      <th>1</th>\n",
              "      <td>4.9</td>\n",
              "      <td>3.0</td>\n",
              "      <td>1.4</td>\n",
              "      <td>0.2</td>\n",
              "      <td>Iris-setosa</td>\n",
              "    </tr>\n",
              "    <tr>\n",
              "      <th>2</th>\n",
              "      <td>4.7</td>\n",
              "      <td>3.2</td>\n",
              "      <td>1.3</td>\n",
              "      <td>0.2</td>\n",
              "      <td>Iris-setosa</td>\n",
              "    </tr>\n",
              "    <tr>\n",
              "      <th>3</th>\n",
              "      <td>4.6</td>\n",
              "      <td>3.1</td>\n",
              "      <td>1.5</td>\n",
              "      <td>0.2</td>\n",
              "      <td>Iris-setosa</td>\n",
              "    </tr>\n",
              "    <tr>\n",
              "      <th>4</th>\n",
              "      <td>5.0</td>\n",
              "      <td>3.6</td>\n",
              "      <td>1.4</td>\n",
              "      <td>0.2</td>\n",
              "      <td>Iris-setosa</td>\n",
              "    </tr>\n",
              "  </tbody>\n",
              "</table>\n",
              "</div>\n",
              "    <div class=\"colab-df-buttons\">\n",
              "\n",
              "  <div class=\"colab-df-container\">\n",
              "    <button class=\"colab-df-convert\" onclick=\"convertToInteractive('df-45b20fbb-8e88-4fe4-9da1-93d7c20dd789')\"\n",
              "            title=\"Convert this dataframe to an interactive table.\"\n",
              "            style=\"display:none;\">\n",
              "\n",
              "  <svg xmlns=\"http://www.w3.org/2000/svg\" height=\"24px\" viewBox=\"0 -960 960 960\">\n",
              "    <path d=\"M120-120v-720h720v720H120Zm60-500h600v-160H180v160Zm220 220h160v-160H400v160Zm0 220h160v-160H400v160ZM180-400h160v-160H180v160Zm440 0h160v-160H620v160ZM180-180h160v-160H180v160Zm440 0h160v-160H620v160Z\"/>\n",
              "  </svg>\n",
              "    </button>\n",
              "\n",
              "  <style>\n",
              "    .colab-df-container {\n",
              "      display:flex;\n",
              "      gap: 12px;\n",
              "    }\n",
              "\n",
              "    .colab-df-convert {\n",
              "      background-color: #E8F0FE;\n",
              "      border: none;\n",
              "      border-radius: 50%;\n",
              "      cursor: pointer;\n",
              "      display: none;\n",
              "      fill: #1967D2;\n",
              "      height: 32px;\n",
              "      padding: 0 0 0 0;\n",
              "      width: 32px;\n",
              "    }\n",
              "\n",
              "    .colab-df-convert:hover {\n",
              "      background-color: #E2EBFA;\n",
              "      box-shadow: 0px 1px 2px rgba(60, 64, 67, 0.3), 0px 1px 3px 1px rgba(60, 64, 67, 0.15);\n",
              "      fill: #174EA6;\n",
              "    }\n",
              "\n",
              "    .colab-df-buttons div {\n",
              "      margin-bottom: 4px;\n",
              "    }\n",
              "\n",
              "    [theme=dark] .colab-df-convert {\n",
              "      background-color: #3B4455;\n",
              "      fill: #D2E3FC;\n",
              "    }\n",
              "\n",
              "    [theme=dark] .colab-df-convert:hover {\n",
              "      background-color: #434B5C;\n",
              "      box-shadow: 0px 1px 3px 1px rgba(0, 0, 0, 0.15);\n",
              "      filter: drop-shadow(0px 1px 2px rgba(0, 0, 0, 0.3));\n",
              "      fill: #FFFFFF;\n",
              "    }\n",
              "  </style>\n",
              "\n",
              "    <script>\n",
              "      const buttonEl =\n",
              "        document.querySelector('#df-45b20fbb-8e88-4fe4-9da1-93d7c20dd789 button.colab-df-convert');\n",
              "      buttonEl.style.display =\n",
              "        google.colab.kernel.accessAllowed ? 'block' : 'none';\n",
              "\n",
              "      async function convertToInteractive(key) {\n",
              "        const element = document.querySelector('#df-45b20fbb-8e88-4fe4-9da1-93d7c20dd789');\n",
              "        const dataTable =\n",
              "          await google.colab.kernel.invokeFunction('convertToInteractive',\n",
              "                                                    [key], {});\n",
              "        if (!dataTable) return;\n",
              "\n",
              "        const docLinkHtml = 'Like what you see? Visit the ' +\n",
              "          '<a target=\"_blank\" href=https://colab.research.google.com/notebooks/data_table.ipynb>data table notebook</a>'\n",
              "          + ' to learn more about interactive tables.';\n",
              "        element.innerHTML = '';\n",
              "        dataTable['output_type'] = 'display_data';\n",
              "        await google.colab.output.renderOutput(dataTable, element);\n",
              "        const docLink = document.createElement('div');\n",
              "        docLink.innerHTML = docLinkHtml;\n",
              "        element.appendChild(docLink);\n",
              "      }\n",
              "    </script>\n",
              "  </div>\n",
              "\n",
              "\n",
              "    <div id=\"df-8498730b-8a85-4f37-a31f-f8c23435dd11\">\n",
              "      <button class=\"colab-df-quickchart\" onclick=\"quickchart('df-8498730b-8a85-4f37-a31f-f8c23435dd11')\"\n",
              "                title=\"Suggest charts\"\n",
              "                style=\"display:none;\">\n",
              "\n",
              "<svg xmlns=\"http://www.w3.org/2000/svg\" height=\"24px\"viewBox=\"0 0 24 24\"\n",
              "     width=\"24px\">\n",
              "    <g>\n",
              "        <path d=\"M19 3H5c-1.1 0-2 .9-2 2v14c0 1.1.9 2 2 2h14c1.1 0 2-.9 2-2V5c0-1.1-.9-2-2-2zM9 17H7v-7h2v7zm4 0h-2V7h2v10zm4 0h-2v-4h2v4z\"/>\n",
              "    </g>\n",
              "</svg>\n",
              "      </button>\n",
              "\n",
              "<style>\n",
              "  .colab-df-quickchart {\n",
              "      --bg-color: #E8F0FE;\n",
              "      --fill-color: #1967D2;\n",
              "      --hover-bg-color: #E2EBFA;\n",
              "      --hover-fill-color: #174EA6;\n",
              "      --disabled-fill-color: #AAA;\n",
              "      --disabled-bg-color: #DDD;\n",
              "  }\n",
              "\n",
              "  [theme=dark] .colab-df-quickchart {\n",
              "      --bg-color: #3B4455;\n",
              "      --fill-color: #D2E3FC;\n",
              "      --hover-bg-color: #434B5C;\n",
              "      --hover-fill-color: #FFFFFF;\n",
              "      --disabled-bg-color: #3B4455;\n",
              "      --disabled-fill-color: #666;\n",
              "  }\n",
              "\n",
              "  .colab-df-quickchart {\n",
              "    background-color: var(--bg-color);\n",
              "    border: none;\n",
              "    border-radius: 50%;\n",
              "    cursor: pointer;\n",
              "    display: none;\n",
              "    fill: var(--fill-color);\n",
              "    height: 32px;\n",
              "    padding: 0;\n",
              "    width: 32px;\n",
              "  }\n",
              "\n",
              "  .colab-df-quickchart:hover {\n",
              "    background-color: var(--hover-bg-color);\n",
              "    box-shadow: 0 1px 2px rgba(60, 64, 67, 0.3), 0 1px 3px 1px rgba(60, 64, 67, 0.15);\n",
              "    fill: var(--button-hover-fill-color);\n",
              "  }\n",
              "\n",
              "  .colab-df-quickchart-complete:disabled,\n",
              "  .colab-df-quickchart-complete:disabled:hover {\n",
              "    background-color: var(--disabled-bg-color);\n",
              "    fill: var(--disabled-fill-color);\n",
              "    box-shadow: none;\n",
              "  }\n",
              "\n",
              "  .colab-df-spinner {\n",
              "    border: 2px solid var(--fill-color);\n",
              "    border-color: transparent;\n",
              "    border-bottom-color: var(--fill-color);\n",
              "    animation:\n",
              "      spin 1s steps(1) infinite;\n",
              "  }\n",
              "\n",
              "  @keyframes spin {\n",
              "    0% {\n",
              "      border-color: transparent;\n",
              "      border-bottom-color: var(--fill-color);\n",
              "      border-left-color: var(--fill-color);\n",
              "    }\n",
              "    20% {\n",
              "      border-color: transparent;\n",
              "      border-left-color: var(--fill-color);\n",
              "      border-top-color: var(--fill-color);\n",
              "    }\n",
              "    30% {\n",
              "      border-color: transparent;\n",
              "      border-left-color: var(--fill-color);\n",
              "      border-top-color: var(--fill-color);\n",
              "      border-right-color: var(--fill-color);\n",
              "    }\n",
              "    40% {\n",
              "      border-color: transparent;\n",
              "      border-right-color: var(--fill-color);\n",
              "      border-top-color: var(--fill-color);\n",
              "    }\n",
              "    60% {\n",
              "      border-color: transparent;\n",
              "      border-right-color: var(--fill-color);\n",
              "    }\n",
              "    80% {\n",
              "      border-color: transparent;\n",
              "      border-right-color: var(--fill-color);\n",
              "      border-bottom-color: var(--fill-color);\n",
              "    }\n",
              "    90% {\n",
              "      border-color: transparent;\n",
              "      border-bottom-color: var(--fill-color);\n",
              "    }\n",
              "  }\n",
              "</style>\n",
              "\n",
              "      <script>\n",
              "        async function quickchart(key) {\n",
              "          const quickchartButtonEl =\n",
              "            document.querySelector('#' + key + ' button');\n",
              "          quickchartButtonEl.disabled = true;  // To prevent multiple clicks.\n",
              "          quickchartButtonEl.classList.add('colab-df-spinner');\n",
              "          try {\n",
              "            const charts = await google.colab.kernel.invokeFunction(\n",
              "                'suggestCharts', [key], {});\n",
              "          } catch (error) {\n",
              "            console.error('Error during call to suggestCharts:', error);\n",
              "          }\n",
              "          quickchartButtonEl.classList.remove('colab-df-spinner');\n",
              "          quickchartButtonEl.classList.add('colab-df-quickchart-complete');\n",
              "        }\n",
              "        (() => {\n",
              "          let quickchartButtonEl =\n",
              "            document.querySelector('#df-8498730b-8a85-4f37-a31f-f8c23435dd11 button');\n",
              "          quickchartButtonEl.style.display =\n",
              "            google.colab.kernel.accessAllowed ? 'block' : 'none';\n",
              "        })();\n",
              "      </script>\n",
              "    </div>\n",
              "\n",
              "    </div>\n",
              "  </div>\n"
            ],
            "application/vnd.google.colaboratory.intrinsic+json": {
              "type": "dataframe",
              "variable_name": "df",
              "summary": "{\n  \"name\": \"df\",\n  \"rows\": 100,\n  \"fields\": [\n    {\n      \"column\": 0,\n      \"properties\": {\n        \"dtype\": \"number\",\n        \"std\": 0.6416983463254117,\n        \"min\": 4.3,\n        \"max\": 7.0,\n        \"num_unique_values\": 28,\n        \"samples\": [\n          5.8,\n          6.7,\n          4.3\n        ],\n        \"semantic_type\": \"\",\n        \"description\": \"\"\n      }\n    },\n    {\n      \"column\": 1,\n      \"properties\": {\n        \"dtype\": \"number\",\n        \"std\": 0.47605703758090057,\n        \"min\": 2.0,\n        \"max\": 4.4,\n        \"num_unique_values\": 23,\n        \"samples\": [\n          2.3,\n          4.0,\n          3.5\n        ],\n        \"semantic_type\": \"\",\n        \"description\": \"\"\n      }\n    },\n    {\n      \"column\": 2,\n      \"properties\": {\n        \"dtype\": \"number\",\n        \"std\": 1.4485645977792618,\n        \"min\": 1.0,\n        \"max\": 5.1,\n        \"num_unique_values\": 28,\n        \"samples\": [\n          4.7,\n          3.7,\n          1.9\n        ],\n        \"semantic_type\": \"\",\n        \"description\": \"\"\n      }\n    },\n    {\n      \"column\": 3,\n      \"properties\": {\n        \"dtype\": \"number\",\n        \"std\": 0.5662877521029553,\n        \"min\": 0.1,\n        \"max\": 1.8,\n        \"num_unique_values\": 15,\n        \"samples\": [\n          1.6,\n          1.1,\n          0.2\n        ],\n        \"semantic_type\": \"\",\n        \"description\": \"\"\n      }\n    },\n    {\n      \"column\": 4,\n      \"properties\": {\n        \"dtype\": \"category\",\n        \"num_unique_values\": 2,\n        \"samples\": [\n          \"Iris-versicolor\",\n          \"Iris-setosa\"\n        ],\n        \"semantic_type\": \"\",\n        \"description\": \"\"\n      }\n    }\n  ]\n}"
            }
          },
          "metadata": {},
          "execution_count": 91
        }
      ]
    },
    {
      "cell_type": "code",
      "source": [
        "print(df.shape)"
      ],
      "metadata": {
        "colab": {
          "base_uri": "https://localhost:8080/"
        },
        "id": "QQOUEH5YRwWR",
        "outputId": "85d0e1cf-3d90-4cf6-da81-df6d53c05972"
      },
      "execution_count": 92,
      "outputs": [
        {
          "output_type": "stream",
          "name": "stdout",
          "text": [
            "(100, 5)\n"
          ]
        }
      ]
    },
    {
      "cell_type": "code",
      "source": [
        "#ubah kelas iris sentosa=0, iris-Iris-versicolor=1\n",
        "df[4] = df[4].map({'Iris-setosa': 0, 'Iris-versicolor': 1})\n",
        "df.head()"
      ],
      "metadata": {
        "colab": {
          "base_uri": "https://localhost:8080/",
          "height": 206
        },
        "id": "6w108HDURY-E",
        "outputId": "e7a0bd16-c33e-42f6-d468-ee9b6b46ec17"
      },
      "execution_count": 93,
      "outputs": [
        {
          "output_type": "execute_result",
          "data": {
            "text/plain": [
              "     0    1    2    3  4\n",
              "0  5.1  3.5  1.4  0.2  0\n",
              "1  4.9  3.0  1.4  0.2  0\n",
              "2  4.7  3.2  1.3  0.2  0\n",
              "3  4.6  3.1  1.5  0.2  0\n",
              "4  5.0  3.6  1.4  0.2  0"
            ],
            "text/html": [
              "\n",
              "  <div id=\"df-c7169b17-0bc6-4bda-b2f9-29877f7b58fd\" class=\"colab-df-container\">\n",
              "    <div>\n",
              "<style scoped>\n",
              "    .dataframe tbody tr th:only-of-type {\n",
              "        vertical-align: middle;\n",
              "    }\n",
              "\n",
              "    .dataframe tbody tr th {\n",
              "        vertical-align: top;\n",
              "    }\n",
              "\n",
              "    .dataframe thead th {\n",
              "        text-align: right;\n",
              "    }\n",
              "</style>\n",
              "<table border=\"1\" class=\"dataframe\">\n",
              "  <thead>\n",
              "    <tr style=\"text-align: right;\">\n",
              "      <th></th>\n",
              "      <th>0</th>\n",
              "      <th>1</th>\n",
              "      <th>2</th>\n",
              "      <th>3</th>\n",
              "      <th>4</th>\n",
              "    </tr>\n",
              "  </thead>\n",
              "  <tbody>\n",
              "    <tr>\n",
              "      <th>0</th>\n",
              "      <td>5.1</td>\n",
              "      <td>3.5</td>\n",
              "      <td>1.4</td>\n",
              "      <td>0.2</td>\n",
              "      <td>0</td>\n",
              "    </tr>\n",
              "    <tr>\n",
              "      <th>1</th>\n",
              "      <td>4.9</td>\n",
              "      <td>3.0</td>\n",
              "      <td>1.4</td>\n",
              "      <td>0.2</td>\n",
              "      <td>0</td>\n",
              "    </tr>\n",
              "    <tr>\n",
              "      <th>2</th>\n",
              "      <td>4.7</td>\n",
              "      <td>3.2</td>\n",
              "      <td>1.3</td>\n",
              "      <td>0.2</td>\n",
              "      <td>0</td>\n",
              "    </tr>\n",
              "    <tr>\n",
              "      <th>3</th>\n",
              "      <td>4.6</td>\n",
              "      <td>3.1</td>\n",
              "      <td>1.5</td>\n",
              "      <td>0.2</td>\n",
              "      <td>0</td>\n",
              "    </tr>\n",
              "    <tr>\n",
              "      <th>4</th>\n",
              "      <td>5.0</td>\n",
              "      <td>3.6</td>\n",
              "      <td>1.4</td>\n",
              "      <td>0.2</td>\n",
              "      <td>0</td>\n",
              "    </tr>\n",
              "  </tbody>\n",
              "</table>\n",
              "</div>\n",
              "    <div class=\"colab-df-buttons\">\n",
              "\n",
              "  <div class=\"colab-df-container\">\n",
              "    <button class=\"colab-df-convert\" onclick=\"convertToInteractive('df-c7169b17-0bc6-4bda-b2f9-29877f7b58fd')\"\n",
              "            title=\"Convert this dataframe to an interactive table.\"\n",
              "            style=\"display:none;\">\n",
              "\n",
              "  <svg xmlns=\"http://www.w3.org/2000/svg\" height=\"24px\" viewBox=\"0 -960 960 960\">\n",
              "    <path d=\"M120-120v-720h720v720H120Zm60-500h600v-160H180v160Zm220 220h160v-160H400v160Zm0 220h160v-160H400v160ZM180-400h160v-160H180v160Zm440 0h160v-160H620v160ZM180-180h160v-160H180v160Zm440 0h160v-160H620v160Z\"/>\n",
              "  </svg>\n",
              "    </button>\n",
              "\n",
              "  <style>\n",
              "    .colab-df-container {\n",
              "      display:flex;\n",
              "      gap: 12px;\n",
              "    }\n",
              "\n",
              "    .colab-df-convert {\n",
              "      background-color: #E8F0FE;\n",
              "      border: none;\n",
              "      border-radius: 50%;\n",
              "      cursor: pointer;\n",
              "      display: none;\n",
              "      fill: #1967D2;\n",
              "      height: 32px;\n",
              "      padding: 0 0 0 0;\n",
              "      width: 32px;\n",
              "    }\n",
              "\n",
              "    .colab-df-convert:hover {\n",
              "      background-color: #E2EBFA;\n",
              "      box-shadow: 0px 1px 2px rgba(60, 64, 67, 0.3), 0px 1px 3px 1px rgba(60, 64, 67, 0.15);\n",
              "      fill: #174EA6;\n",
              "    }\n",
              "\n",
              "    .colab-df-buttons div {\n",
              "      margin-bottom: 4px;\n",
              "    }\n",
              "\n",
              "    [theme=dark] .colab-df-convert {\n",
              "      background-color: #3B4455;\n",
              "      fill: #D2E3FC;\n",
              "    }\n",
              "\n",
              "    [theme=dark] .colab-df-convert:hover {\n",
              "      background-color: #434B5C;\n",
              "      box-shadow: 0px 1px 3px 1px rgba(0, 0, 0, 0.15);\n",
              "      filter: drop-shadow(0px 1px 2px rgba(0, 0, 0, 0.3));\n",
              "      fill: #FFFFFF;\n",
              "    }\n",
              "  </style>\n",
              "\n",
              "    <script>\n",
              "      const buttonEl =\n",
              "        document.querySelector('#df-c7169b17-0bc6-4bda-b2f9-29877f7b58fd button.colab-df-convert');\n",
              "      buttonEl.style.display =\n",
              "        google.colab.kernel.accessAllowed ? 'block' : 'none';\n",
              "\n",
              "      async function convertToInteractive(key) {\n",
              "        const element = document.querySelector('#df-c7169b17-0bc6-4bda-b2f9-29877f7b58fd');\n",
              "        const dataTable =\n",
              "          await google.colab.kernel.invokeFunction('convertToInteractive',\n",
              "                                                    [key], {});\n",
              "        if (!dataTable) return;\n",
              "\n",
              "        const docLinkHtml = 'Like what you see? Visit the ' +\n",
              "          '<a target=\"_blank\" href=https://colab.research.google.com/notebooks/data_table.ipynb>data table notebook</a>'\n",
              "          + ' to learn more about interactive tables.';\n",
              "        element.innerHTML = '';\n",
              "        dataTable['output_type'] = 'display_data';\n",
              "        await google.colab.output.renderOutput(dataTable, element);\n",
              "        const docLink = document.createElement('div');\n",
              "        docLink.innerHTML = docLinkHtml;\n",
              "        element.appendChild(docLink);\n",
              "      }\n",
              "    </script>\n",
              "  </div>\n",
              "\n",
              "\n",
              "    <div id=\"df-78eca13a-befd-4a2e-aeee-4994c36f62df\">\n",
              "      <button class=\"colab-df-quickchart\" onclick=\"quickchart('df-78eca13a-befd-4a2e-aeee-4994c36f62df')\"\n",
              "                title=\"Suggest charts\"\n",
              "                style=\"display:none;\">\n",
              "\n",
              "<svg xmlns=\"http://www.w3.org/2000/svg\" height=\"24px\"viewBox=\"0 0 24 24\"\n",
              "     width=\"24px\">\n",
              "    <g>\n",
              "        <path d=\"M19 3H5c-1.1 0-2 .9-2 2v14c0 1.1.9 2 2 2h14c1.1 0 2-.9 2-2V5c0-1.1-.9-2-2-2zM9 17H7v-7h2v7zm4 0h-2V7h2v10zm4 0h-2v-4h2v4z\"/>\n",
              "    </g>\n",
              "</svg>\n",
              "      </button>\n",
              "\n",
              "<style>\n",
              "  .colab-df-quickchart {\n",
              "      --bg-color: #E8F0FE;\n",
              "      --fill-color: #1967D2;\n",
              "      --hover-bg-color: #E2EBFA;\n",
              "      --hover-fill-color: #174EA6;\n",
              "      --disabled-fill-color: #AAA;\n",
              "      --disabled-bg-color: #DDD;\n",
              "  }\n",
              "\n",
              "  [theme=dark] .colab-df-quickchart {\n",
              "      --bg-color: #3B4455;\n",
              "      --fill-color: #D2E3FC;\n",
              "      --hover-bg-color: #434B5C;\n",
              "      --hover-fill-color: #FFFFFF;\n",
              "      --disabled-bg-color: #3B4455;\n",
              "      --disabled-fill-color: #666;\n",
              "  }\n",
              "\n",
              "  .colab-df-quickchart {\n",
              "    background-color: var(--bg-color);\n",
              "    border: none;\n",
              "    border-radius: 50%;\n",
              "    cursor: pointer;\n",
              "    display: none;\n",
              "    fill: var(--fill-color);\n",
              "    height: 32px;\n",
              "    padding: 0;\n",
              "    width: 32px;\n",
              "  }\n",
              "\n",
              "  .colab-df-quickchart:hover {\n",
              "    background-color: var(--hover-bg-color);\n",
              "    box-shadow: 0 1px 2px rgba(60, 64, 67, 0.3), 0 1px 3px 1px rgba(60, 64, 67, 0.15);\n",
              "    fill: var(--button-hover-fill-color);\n",
              "  }\n",
              "\n",
              "  .colab-df-quickchart-complete:disabled,\n",
              "  .colab-df-quickchart-complete:disabled:hover {\n",
              "    background-color: var(--disabled-bg-color);\n",
              "    fill: var(--disabled-fill-color);\n",
              "    box-shadow: none;\n",
              "  }\n",
              "\n",
              "  .colab-df-spinner {\n",
              "    border: 2px solid var(--fill-color);\n",
              "    border-color: transparent;\n",
              "    border-bottom-color: var(--fill-color);\n",
              "    animation:\n",
              "      spin 1s steps(1) infinite;\n",
              "  }\n",
              "\n",
              "  @keyframes spin {\n",
              "    0% {\n",
              "      border-color: transparent;\n",
              "      border-bottom-color: var(--fill-color);\n",
              "      border-left-color: var(--fill-color);\n",
              "    }\n",
              "    20% {\n",
              "      border-color: transparent;\n",
              "      border-left-color: var(--fill-color);\n",
              "      border-top-color: var(--fill-color);\n",
              "    }\n",
              "    30% {\n",
              "      border-color: transparent;\n",
              "      border-left-color: var(--fill-color);\n",
              "      border-top-color: var(--fill-color);\n",
              "      border-right-color: var(--fill-color);\n",
              "    }\n",
              "    40% {\n",
              "      border-color: transparent;\n",
              "      border-right-color: var(--fill-color);\n",
              "      border-top-color: var(--fill-color);\n",
              "    }\n",
              "    60% {\n",
              "      border-color: transparent;\n",
              "      border-right-color: var(--fill-color);\n",
              "    }\n",
              "    80% {\n",
              "      border-color: transparent;\n",
              "      border-right-color: var(--fill-color);\n",
              "      border-bottom-color: var(--fill-color);\n",
              "    }\n",
              "    90% {\n",
              "      border-color: transparent;\n",
              "      border-bottom-color: var(--fill-color);\n",
              "    }\n",
              "  }\n",
              "</style>\n",
              "\n",
              "      <script>\n",
              "        async function quickchart(key) {\n",
              "          const quickchartButtonEl =\n",
              "            document.querySelector('#' + key + ' button');\n",
              "          quickchartButtonEl.disabled = true;  // To prevent multiple clicks.\n",
              "          quickchartButtonEl.classList.add('colab-df-spinner');\n",
              "          try {\n",
              "            const charts = await google.colab.kernel.invokeFunction(\n",
              "                'suggestCharts', [key], {});\n",
              "          } catch (error) {\n",
              "            console.error('Error during call to suggestCharts:', error);\n",
              "          }\n",
              "          quickchartButtonEl.classList.remove('colab-df-spinner');\n",
              "          quickchartButtonEl.classList.add('colab-df-quickchart-complete');\n",
              "        }\n",
              "        (() => {\n",
              "          let quickchartButtonEl =\n",
              "            document.querySelector('#df-78eca13a-befd-4a2e-aeee-4994c36f62df button');\n",
              "          quickchartButtonEl.style.display =\n",
              "            google.colab.kernel.accessAllowed ? 'block' : 'none';\n",
              "        })();\n",
              "      </script>\n",
              "    </div>\n",
              "\n",
              "    </div>\n",
              "  </div>\n"
            ],
            "application/vnd.google.colaboratory.intrinsic+json": {
              "type": "dataframe",
              "variable_name": "df",
              "summary": "{\n  \"name\": \"df\",\n  \"rows\": 100,\n  \"fields\": [\n    {\n      \"column\": 0,\n      \"properties\": {\n        \"dtype\": \"number\",\n        \"std\": 0.6416983463254117,\n        \"min\": 4.3,\n        \"max\": 7.0,\n        \"num_unique_values\": 28,\n        \"samples\": [\n          5.8,\n          6.7,\n          4.3\n        ],\n        \"semantic_type\": \"\",\n        \"description\": \"\"\n      }\n    },\n    {\n      \"column\": 1,\n      \"properties\": {\n        \"dtype\": \"number\",\n        \"std\": 0.47605703758090057,\n        \"min\": 2.0,\n        \"max\": 4.4,\n        \"num_unique_values\": 23,\n        \"samples\": [\n          2.3,\n          4.0,\n          3.5\n        ],\n        \"semantic_type\": \"\",\n        \"description\": \"\"\n      }\n    },\n    {\n      \"column\": 2,\n      \"properties\": {\n        \"dtype\": \"number\",\n        \"std\": 1.4485645977792618,\n        \"min\": 1.0,\n        \"max\": 5.1,\n        \"num_unique_values\": 28,\n        \"samples\": [\n          4.7,\n          3.7,\n          1.9\n        ],\n        \"semantic_type\": \"\",\n        \"description\": \"\"\n      }\n    },\n    {\n      \"column\": 3,\n      \"properties\": {\n        \"dtype\": \"number\",\n        \"std\": 0.5662877521029553,\n        \"min\": 0.1,\n        \"max\": 1.8,\n        \"num_unique_values\": 15,\n        \"samples\": [\n          1.6,\n          1.1,\n          0.2\n        ],\n        \"semantic_type\": \"\",\n        \"description\": \"\"\n      }\n    },\n    {\n      \"column\": 4,\n      \"properties\": {\n        \"dtype\": \"number\",\n        \"std\": 0,\n        \"min\": 0,\n        \"max\": 1,\n        \"num_unique_values\": 2,\n        \"samples\": [\n          1,\n          0\n        ],\n        \"semantic_type\": \"\",\n        \"description\": \"\"\n      }\n    }\n  ]\n}"
            }
          },
          "metadata": {},
          "execution_count": 93
        }
      ]
    },
    {
      "cell_type": "code",
      "source": [
        "#Split train test kemudian save data untuk perbandingan di excel dengan stratisfy agar datanya seimbang"
      ],
      "metadata": {
        "id": "ZIGfinorR5pJ"
      },
      "execution_count": 94,
      "outputs": []
    },
    {
      "cell_type": "code",
      "source": [
        "X = df.drop(columns=[4]).values\n",
        "y = df[4].values\n",
        "\n",
        "X_train, X_test, y_train, y_test = train_test_split(\n",
        "    X, y, test_size=0.2, random_state=42, stratify=y\n",
        ")"
      ],
      "metadata": {
        "id": "U9B09-LSSPie"
      },
      "execution_count": 95,
      "outputs": []
    },
    {
      "cell_type": "code",
      "source": [
        "train_df = pd.DataFrame(np.column_stack((X_train, y_train)), columns=list(df.columns[:-1]) + [4])\n",
        "test_df = pd.DataFrame(np.column_stack((X_test, y_test)), columns=list(df.columns[:-1]) + [4])\n",
        "\n",
        "train_df.to_excel(\"train.xlsx\", index=False, header=False)\n",
        "test_df.to_excel(\"test.xlsx\", index=False, header=False)"
      ],
      "metadata": {
        "id": "hNxLRt3hSVk5"
      },
      "execution_count": 96,
      "outputs": []
    },
    {
      "cell_type": "code",
      "source": [
        "# Tambahkan feature yang isinya 1 untuk bias di awal\n",
        "X_train = np.hstack([np.ones((X_train.shape[0], 1)), X_train])\n",
        "X_test  = np.hstack([np.ones((X_test.shape[0], 1)), X_test])"
      ],
      "metadata": {
        "id": "G8X7ouooSZPR"
      },
      "execution_count": 97,
      "outputs": []
    },
    {
      "cell_type": "code",
      "source": [
        "X_train"
      ],
      "metadata": {
        "colab": {
          "base_uri": "https://localhost:8080/"
        },
        "id": "3ZKLOlh-Sk1v",
        "outputId": "8f91ba55-a614-4c86-fe1f-cd94d8032878"
      },
      "execution_count": 98,
      "outputs": [
        {
          "output_type": "execute_result",
          "data": {
            "text/plain": [
              "array([[1. , 5.7, 4.4, 1.5, 0.4],\n",
              "       [1. , 6.9, 3.1, 4.9, 1.5],\n",
              "       [1. , 5. , 2. , 3.5, 1. ],\n",
              "       [1. , 5.6, 3. , 4.5, 1.5],\n",
              "       [1. , 6.2, 2.2, 4.5, 1.5],\n",
              "       [1. , 4.6, 3.4, 1.4, 0.3],\n",
              "       [1. , 5.4, 3.4, 1.5, 0.4],\n",
              "       [1. , 5.2, 2.7, 3.9, 1.4],\n",
              "       [1. , 5.1, 3.8, 1.6, 0.2],\n",
              "       [1. , 5.7, 2.8, 4.1, 1.3],\n",
              "       [1. , 4.9, 3.1, 1.5, 0.1],\n",
              "       [1. , 5. , 3.2, 1.2, 0.2],\n",
              "       [1. , 6.7, 3.1, 4.7, 1.5],\n",
              "       [1. , 6. , 2.9, 4.5, 1.5],\n",
              "       [1. , 5.5, 2.5, 4. , 1.3],\n",
              "       [1. , 4.5, 2.3, 1.3, 0.3],\n",
              "       [1. , 5.5, 2.4, 3.8, 1.1],\n",
              "       [1. , 4.7, 3.2, 1.3, 0.2],\n",
              "       [1. , 4.8, 3. , 1.4, 0.1],\n",
              "       [1. , 6.4, 2.9, 4.3, 1.3],\n",
              "       [1. , 5.9, 3. , 4.2, 1.5],\n",
              "       [1. , 5.3, 3.7, 1.5, 0.2],\n",
              "       [1. , 4.9, 3.1, 1.5, 0.1],\n",
              "       [1. , 4.7, 3.2, 1.6, 0.2],\n",
              "       [1. , 5.1, 3.8, 1.5, 0.3],\n",
              "       [1. , 5.1, 3.4, 1.5, 0.2],\n",
              "       [1. , 5.9, 3.2, 4.8, 1.8],\n",
              "       [1. , 4.6, 3.2, 1.4, 0.2],\n",
              "       [1. , 6.1, 2.8, 4. , 1.3],\n",
              "       [1. , 5.8, 2.7, 4.1, 1. ],\n",
              "       [1. , 6.3, 2.3, 4.4, 1.3],\n",
              "       [1. , 6.5, 2.8, 4.6, 1.5],\n",
              "       [1. , 5.5, 4.2, 1.4, 0.2],\n",
              "       [1. , 6.8, 2.8, 4.8, 1.4],\n",
              "       [1. , 5.5, 2.6, 4.4, 1.2],\n",
              "       [1. , 5.4, 3.9, 1.7, 0.4],\n",
              "       [1. , 4.8, 3. , 1.4, 0.3],\n",
              "       [1. , 6.7, 3.1, 4.4, 1.4],\n",
              "       [1. , 6.1, 3. , 4.6, 1.4],\n",
              "       [1. , 4.8, 3.4, 1.6, 0.2],\n",
              "       [1. , 4.9, 3.1, 1.5, 0.1],\n",
              "       [1. , 5.6, 3. , 4.1, 1.3],\n",
              "       [1. , 7. , 3.2, 4.7, 1.4],\n",
              "       [1. , 5.7, 3. , 4.2, 1.2],\n",
              "       [1. , 4.6, 3.1, 1.5, 0.2],\n",
              "       [1. , 5.2, 4.1, 1.5, 0.1],\n",
              "       [1. , 5.5, 2.4, 3.7, 1. ],\n",
              "       [1. , 5.1, 3.3, 1.7, 0.5],\n",
              "       [1. , 6. , 2.7, 5.1, 1.6],\n",
              "       [1. , 5.1, 3.5, 1.4, 0.2],\n",
              "       [1. , 5.7, 2.8, 4.5, 1.3],\n",
              "       [1. , 5.8, 2.7, 3.9, 1.2],\n",
              "       [1. , 4.8, 3.1, 1.6, 0.2],\n",
              "       [1. , 4.4, 2.9, 1.4, 0.2],\n",
              "       [1. , 6.3, 2.5, 4.9, 1.5],\n",
              "       [1. , 5.6, 2.9, 3.6, 1.3],\n",
              "       [1. , 6. , 2.2, 4. , 1. ],\n",
              "       [1. , 4.3, 3. , 1.1, 0.1],\n",
              "       [1. , 5.8, 2.6, 4. , 1.2],\n",
              "       [1. , 5.1, 3.8, 1.9, 0.4],\n",
              "       [1. , 5.4, 3.9, 1.3, 0.4],\n",
              "       [1. , 5. , 3.5, 1.3, 0.3],\n",
              "       [1. , 5.7, 2.9, 4.2, 1.3],\n",
              "       [1. , 5.5, 2.3, 4. , 1.3],\n",
              "       [1. , 5. , 3.5, 1.6, 0.6],\n",
              "       [1. , 6.1, 2.8, 4.7, 1.2],\n",
              "       [1. , 4.8, 3.4, 1.9, 0.2],\n",
              "       [1. , 5.6, 2.7, 4.2, 1.3],\n",
              "       [1. , 6.2, 2.9, 4.3, 1.3],\n",
              "       [1. , 4.9, 3. , 1.4, 0.2],\n",
              "       [1. , 5. , 3.6, 1.4, 0.2],\n",
              "       [1. , 5.1, 2.5, 3. , 1.1],\n",
              "       [1. , 5. , 3.4, 1.6, 0.4],\n",
              "       [1. , 5.2, 3.5, 1.5, 0.2],\n",
              "       [1. , 5.7, 2.6, 3.5, 1. ],\n",
              "       [1. , 5.1, 3.5, 1.4, 0.3],\n",
              "       [1. , 5.5, 3.5, 1.3, 0.2],\n",
              "       [1. , 6. , 3.4, 4.5, 1.6],\n",
              "       [1. , 5.1, 3.7, 1.5, 0.4],\n",
              "       [1. , 5. , 3. , 1.6, 0.2]])"
            ]
          },
          "metadata": {},
          "execution_count": 98
        }
      ]
    },
    {
      "cell_type": "markdown",
      "source": [
        "Di cek data sudah sesuai dan siap untuk modelling"
      ],
      "metadata": {
        "id": "1wW9dfevSm9e"
      }
    },
    {
      "cell_type": "markdown",
      "source": [
        "## Modelling"
      ],
      "metadata": {
        "id": "Qt3i65GzSqYW"
      }
    },
    {
      "cell_type": "markdown",
      "source": [
        "Akan dilakukan modelling dengan 5 epoch, kemudian buat grafik loss dan akurasi untuk train dan test. Dengan inisasi bobot dari w dan bias adalah 0.5 dan lr=0.1"
      ],
      "metadata": {
        "id": "fgu1UZgkSz1J"
      }
    },
    {
      "cell_type": "code",
      "source": [
        "#Definisikan fungsi yang dibutuhkan\n",
        "def sigmoid(z):\n",
        "    return 1 / (1 + np.exp(-z))\n",
        "\n",
        "def predict_probs(X, W):\n",
        "    return sigmoid(np.dot(X, W))\n",
        "\n",
        "def predict_labels(X, W):\n",
        "    return (predict_probs(X, W) >= 0.5).astype(int)\n",
        "\n",
        "def compute_loss(y_true, y_pred):\n",
        "    eps = 1e-10\n",
        "    return -np.mean(y_true * np.log(y_pred+eps) + (1-y_true) * np.log(1-y_pred+eps))"
      ],
      "metadata": {
        "id": "6uKNBaTDTGRS"
      },
      "execution_count": 99,
      "outputs": []
    },
    {
      "cell_type": "code",
      "source": [
        "#Inisiasi Awal\n",
        "W = np.ones(5) * 0.5 #Ini termasuk untukn  bias\n",
        "lr=0.1 #learning rate"
      ],
      "metadata": {
        "id": "hfdS2Hu1Tqvg"
      },
      "execution_count": 100,
      "outputs": []
    },
    {
      "cell_type": "code",
      "source": [
        "# Buat untuk simpan akurasi dan loss\n",
        "train_losses, val_losses = [], []\n",
        "train_accs, val_accs = [], []"
      ],
      "metadata": {
        "id": "29HmI2J8T2kB"
      },
      "execution_count": 101,
      "outputs": []
    },
    {
      "cell_type": "markdown",
      "source": [
        "### Epoch 1"
      ],
      "metadata": {
        "id": "J8qyGJ6dUDic"
      }
    },
    {
      "cell_type": "code",
      "source": [
        "for xi, yi in zip(X_train, y_train):\n",
        "    y_prob = sigmoid(np.dot(xi, W))\n",
        "    error = y_prob - yi\n",
        "    W -= lr * error * xi\n",
        "\n",
        "W #setelah epoch 1"
      ],
      "metadata": {
        "colab": {
          "base_uri": "https://localhost:8080/"
        },
        "id": "GxbnRNWtdN68",
        "outputId": "db82fbe1-902a-4899-c735-86b76aebb48d"
      },
      "execution_count": 102,
      "outputs": [
        {
          "output_type": "execute_result",
          "data": {
            "text/plain": [
              "array([ 0.1839981 , -0.54168498, -0.94933716,  1.61256794,  1.05072769])"
            ]
          },
          "metadata": {},
          "execution_count": 102
        }
      ]
    },
    {
      "cell_type": "code",
      "source": [
        "# evaluasi train\n",
        "y_probs_train = predict_probs(X_train, W)\n",
        "y_preds_train = (y_probs_train >= 0.5).astype(int)\n",
        "train_loss = compute_loss(y_train, y_probs_train)\n",
        "train_acc = np.mean(y_preds_train == y_train)\n",
        "\n",
        "# evaluasi val\n",
        "y_probs_test = predict_probs(X_test, W)\n",
        "y_preds_test = (y_probs_test >= 0.5).astype(int)\n",
        "val_loss = compute_loss(y_test, y_probs_test)\n",
        "val_acc = np.mean(y_preds_test == y_test)"
      ],
      "metadata": {
        "id": "lqkOq9DeeZAr"
      },
      "execution_count": 103,
      "outputs": []
    },
    {
      "cell_type": "code",
      "source": [
        "train_losses.append(train_loss)\n",
        "train_accs.append(train_acc)\n",
        "val_losses.append(val_loss)\n",
        "val_accs.append(val_acc)"
      ],
      "metadata": {
        "id": "NgtCJj99d4FK"
      },
      "execution_count": 104,
      "outputs": []
    },
    {
      "cell_type": "markdown",
      "source": [
        "### Epoch 2"
      ],
      "metadata": {
        "id": "GNEpPBGBehA8"
      }
    },
    {
      "cell_type": "code",
      "source": [
        "for xi, yi in zip(X_train, y_train):\n",
        "    y_prob = sigmoid(np.dot(xi, W))\n",
        "    error = y_prob - yi\n",
        "    W -= lr * error * xi\n",
        "\n",
        "W #setelah epoch 2"
      ],
      "metadata": {
        "colab": {
          "base_uri": "https://localhost:8080/"
        },
        "outputId": "913ab351-8bd6-4af1-a4e0-83aa9609bf8f",
        "id": "zlfdmOSOehA8"
      },
      "execution_count": 105,
      "outputs": [
        {
          "output_type": "execute_result",
          "data": {
            "text/plain": [
              "array([ 0.14322784, -0.57453902, -1.18066015,  2.00828778,  1.22280053])"
            ]
          },
          "metadata": {},
          "execution_count": 105
        }
      ]
    },
    {
      "cell_type": "code",
      "source": [
        "# evaluasi train\n",
        "y_probs_train = predict_probs(X_train, W)\n",
        "y_preds_train = (y_probs_train >= 0.5).astype(int)\n",
        "train_loss = compute_loss(y_train, y_probs_train)\n",
        "train_acc = np.mean(y_preds_train == y_train)\n",
        "\n",
        "# evaluasi val\n",
        "y_probs_test = predict_probs(X_test, W)\n",
        "y_preds_test = (y_probs_test >= 0.5).astype(int)\n",
        "val_loss = compute_loss(y_test, y_probs_test)\n",
        "val_acc = np.mean(y_preds_test == y_test)"
      ],
      "metadata": {
        "id": "dRCYfELmehA8"
      },
      "execution_count": 106,
      "outputs": []
    },
    {
      "cell_type": "code",
      "source": [
        "train_losses.append(train_loss)\n",
        "train_accs.append(train_acc)\n",
        "val_losses.append(val_loss)\n",
        "val_accs.append(val_acc)"
      ],
      "metadata": {
        "id": "OJc0MuZlehA8"
      },
      "execution_count": 107,
      "outputs": []
    },
    {
      "cell_type": "markdown",
      "source": [
        "### Epoch 3"
      ],
      "metadata": {
        "id": "bJOGODyTegT1"
      }
    },
    {
      "cell_type": "code",
      "source": [
        "for xi, yi in zip(X_train, y_train):\n",
        "    y_prob = sigmoid(np.dot(xi, W))\n",
        "    error = y_prob - yi\n",
        "    W -= lr * error * xi\n",
        "\n",
        "W #setelah epoch 3"
      ],
      "metadata": {
        "colab": {
          "base_uri": "https://localhost:8080/"
        },
        "outputId": "e42d5729-c38b-4d5c-dbed-1e48a9853820",
        "id": "McTDSUmdegT1"
      },
      "execution_count": 108,
      "outputs": [
        {
          "output_type": "execute_result",
          "data": {
            "text/plain": [
              "array([ 0.11746886, -0.60059069, -1.32480638,  2.24557057,  1.32738636])"
            ]
          },
          "metadata": {},
          "execution_count": 108
        }
      ]
    },
    {
      "cell_type": "code",
      "source": [
        "# evaluasi train\n",
        "y_probs_train = predict_probs(X_train, W)\n",
        "y_preds_train = (y_probs_train >= 0.5).astype(int)\n",
        "train_loss = compute_loss(y_train, y_probs_train)\n",
        "train_acc = np.mean(y_preds_train == y_train)\n",
        "\n",
        "# evaluasi val\n",
        "y_probs_test = predict_probs(X_test, W)\n",
        "y_preds_test = (y_probs_test >= 0.5).astype(int)\n",
        "val_loss = compute_loss(y_test, y_probs_test)\n",
        "val_acc = np.mean(y_preds_test == y_test)"
      ],
      "metadata": {
        "id": "JKugNA4SegT2"
      },
      "execution_count": 109,
      "outputs": []
    },
    {
      "cell_type": "code",
      "source": [
        "train_losses.append(train_loss)\n",
        "train_accs.append(train_acc)\n",
        "val_losses.append(val_loss)\n",
        "val_accs.append(val_acc)"
      ],
      "metadata": {
        "id": "MCG6tbxYegT2"
      },
      "execution_count": 110,
      "outputs": []
    },
    {
      "cell_type": "markdown",
      "source": [
        "### Epoch 4"
      ],
      "metadata": {
        "id": "LXijd_SvehQw"
      }
    },
    {
      "cell_type": "code",
      "source": [
        "for xi, yi in zip(X_train, y_train):\n",
        "    y_prob = sigmoid(np.dot(xi, W))\n",
        "    error = y_prob - yi\n",
        "    W -= lr * error * xi\n",
        "\n",
        "W #setelah epoch 4"
      ],
      "metadata": {
        "colab": {
          "base_uri": "https://localhost:8080/"
        },
        "outputId": "ff3956f3-5ace-492a-d69b-3f1af8f67dea",
        "id": "qpzxjhnXehQx"
      },
      "execution_count": 111,
      "outputs": [
        {
          "output_type": "execute_result",
          "data": {
            "text/plain": [
              "array([ 0.09813653, -0.62281029, -1.43113175,  2.41622204,  1.40345308])"
            ]
          },
          "metadata": {},
          "execution_count": 111
        }
      ]
    },
    {
      "cell_type": "code",
      "source": [
        "# evaluasi train\n",
        "y_probs_train = predict_probs(X_train, W)\n",
        "y_preds_train = (y_probs_train >= 0.5).astype(int)\n",
        "train_loss = compute_loss(y_train, y_probs_train)\n",
        "train_acc = np.mean(y_preds_train == y_train)\n",
        "\n",
        "# evaluasi val\n",
        "y_probs_test = predict_probs(X_test, W)\n",
        "y_preds_test = (y_probs_test >= 0.5).astype(int)\n",
        "val_loss = compute_loss(y_test, y_probs_test)\n",
        "val_acc = np.mean(y_preds_test == y_test)"
      ],
      "metadata": {
        "id": "WZXJeoTdehQx"
      },
      "execution_count": 112,
      "outputs": []
    },
    {
      "cell_type": "code",
      "source": [
        "train_losses.append(train_loss)\n",
        "train_accs.append(train_acc)\n",
        "val_losses.append(val_loss)\n",
        "val_accs.append(val_acc)"
      ],
      "metadata": {
        "id": "Qt_L-UnqehQx"
      },
      "execution_count": 113,
      "outputs": []
    },
    {
      "cell_type": "markdown",
      "source": [
        "### Epoch 5"
      ],
      "metadata": {
        "id": "2P42GjzFehkA"
      }
    },
    {
      "cell_type": "code",
      "source": [
        "for xi, yi in zip(X_train, y_train):\n",
        "    y_prob = sigmoid(np.dot(xi, W))\n",
        "    error = y_prob - yi\n",
        "    W -= lr * error * xi\n",
        "\n",
        "W #setelah epoch 5"
      ],
      "metadata": {
        "colab": {
          "base_uri": "https://localhost:8080/"
        },
        "outputId": "0c3330f7-382b-4f71-bec6-abc26973748e",
        "id": "jREYaBHVehkA"
      },
      "execution_count": 114,
      "outputs": [
        {
          "output_type": "execute_result",
          "data": {
            "text/plain": [
              "array([ 0.08253279, -0.64222301, -1.51583312,  2.54991303,  1.46361676])"
            ]
          },
          "metadata": {},
          "execution_count": 114
        }
      ]
    },
    {
      "cell_type": "code",
      "source": [
        "# evaluasi train\n",
        "y_probs_train = predict_probs(X_train, W)\n",
        "y_preds_train = (y_probs_train >= 0.5).astype(int)\n",
        "train_loss = compute_loss(y_train, y_probs_train)\n",
        "train_acc = np.mean(y_preds_train == y_train)\n",
        "\n",
        "# evaluasi val\n",
        "y_probs_test = predict_probs(X_test, W)\n",
        "y_preds_test = (y_probs_test >= 0.5).astype(int)\n",
        "val_loss = compute_loss(y_test, y_probs_test)\n",
        "val_acc = np.mean(y_preds_test == y_test)"
      ],
      "metadata": {
        "id": "uLYCnLpEehkA"
      },
      "execution_count": 115,
      "outputs": []
    },
    {
      "cell_type": "code",
      "source": [
        "train_losses.append(train_loss)\n",
        "train_accs.append(train_acc)\n",
        "val_losses.append(val_loss)\n",
        "val_accs.append(val_acc)"
      ],
      "metadata": {
        "id": "gWxQYvpYehkA"
      },
      "execution_count": 116,
      "outputs": []
    },
    {
      "cell_type": "markdown",
      "source": [
        "## Visualisasi dan Train Loss"
      ],
      "metadata": {
        "id": "Wr2PVfTSe9tX"
      }
    },
    {
      "cell_type": "code",
      "source": [
        "epochs=5\n",
        "plt.figure(figsize=(12,5))\n",
        "\n",
        "plt.subplot(1,2,1)\n",
        "plt.plot(range(1, epochs+1), train_accs, label=\"Train Accuracy\")\n",
        "plt.plot(range(1, epochs+1), val_accs, label=\"Validation Accuracy\")\n",
        "\n",
        "for i in range(5):\n",
        "    plt.text(i+1, train_accs[i], f\"{train_accs[i]:.2f}\", ha='center', va='bottom', fontsize=8, color=\"blue\")\n",
        "    plt.text(i+1, val_accs[i], f\"{val_accs[i]:.2f}\", ha='center', va='bottom', fontsize=8, color=\"orange\")\n",
        "\n",
        "plt.xlabel(\"Epoch\")\n",
        "plt.ylabel(\"Accuracy\")\n",
        "plt.title(\"Accuracy per Epoch\")\n",
        "plt.legend()\n",
        "\n",
        "plt.subplot(1,2,2)\n",
        "plt.plot(range(1, epochs+1), train_losses, label=\"Train Loss\")\n",
        "plt.plot(range(1, epochs+1), val_losses, label=\"Validation Loss\")\n",
        "\n",
        "for i in range(5):\n",
        "    plt.text(i+1, train_losses[i], f\"{train_losses[i]:.2f}\", ha='center', va='bottom', fontsize=8, color=\"blue\")\n",
        "    plt.text(i+1, val_losses[i], f\"{val_losses[i]:.2f}\", ha='center', va='bottom', fontsize=8, color=\"orange\")\n",
        "\n",
        "plt.xlabel(\"Epoch\")\n",
        "plt.ylabel(\"Loss\")\n",
        "plt.title(\"Loss per Epoch\")\n",
        "plt.legend()\n",
        "\n",
        "plt.tight_layout()\n",
        "plt.show()"
      ],
      "metadata": {
        "colab": {
          "base_uri": "https://localhost:8080/",
          "height": 502
        },
        "id": "SzkBp7SVfIEy",
        "outputId": "53a8ecf1-693b-4739-e5ea-a87b1723cadb"
      },
      "execution_count": 117,
      "outputs": [
        {
          "output_type": "display_data",
          "data": {
            "text/plain": [
              "<Figure size 1200x500 with 2 Axes>"
            ],
            "image/png": "[encoded data removed]"
          },
          "metadata": {}
        }
      ]
    }
  ]
}