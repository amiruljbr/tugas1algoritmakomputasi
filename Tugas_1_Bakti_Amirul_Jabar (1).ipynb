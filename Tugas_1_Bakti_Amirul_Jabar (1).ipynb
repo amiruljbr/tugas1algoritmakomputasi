{
  "nbformat": 4,
  "nbformat_minor": 0,
  "metadata": {
    "colab": {
      "provenance": []
    },
    "kernelspec": {
      "name": "python3",
      "display_name": "Python 3"
    },
    "language_info": {
      "name": "python"
    }
  },
  "cells": [
    {
      "cell_type": "markdown",
      "source": [
        "# Tugas 1 Algoritma dan Komputasi"
      ],
      "metadata": {
        "id": "ZhVb3l-hSs1a"
      }
    },
    {
      "cell_type": "markdown",
      "source": [
        "Nama: Bakti Amirul Jabar\n",
        "NIM: 25/569253/SPA/01134"
      ],
      "metadata": {
        "id": "MtYEwy592Rmj"
      }
    },
    {
      "cell_type": "markdown",
      "source": [
        "## Data Preparation"
      ],
      "metadata": {
        "id": "cpixpogWSaYy"
      }
    },
    {
      "cell_type": "code",
      "source": [
        "#import library\n",
        "import pandas as pd\n",
        "import numpy as np\n",
        "import matplotlib.pyplot as plt\n",
        "from sklearn.model_selection import train_test_split"
      ],
      "metadata": {
        "id": "fzHLZxgj2Uyb"
      },
      "execution_count": 35,
      "outputs": []
    },
    {
      "cell_type": "code",
      "source": [
        "#Import dataset\n",
        "url = f\"https://docs.google.com/spreadsheets/d/1yhi8ASebpmljJ3NpYQ7NmxlWLmhGOI6W/export?format=csv\"\n",
        "\n",
        "df = pd.read_csv(url, header=None)"
      ],
      "metadata": {
        "id": "FfJYh3tQRO-j"
      },
      "execution_count": 36,
      "outputs": []
    },
    {
      "cell_type": "code",
      "source": [
        "df.head()"
      ],
      "metadata": {
        "colab": {
          "base_uri": "https://localhost:8080/",
          "height": 206
        },
        "id": "4pEEaeskRxVL",
        "outputId": "d7ebfbbf-6cd1-456d-a0d0-8cf53c1ee4f1"
      },
      "execution_count": 37,
      "outputs": [
        {
          "output_type": "execute_result",
          "data": {
            "text/plain": [
              "     0    1    2    3            4\n",
              "0  5.1  3.5  1.4  0.2  Iris-setosa\n",
              "1  4.9  3.0  1.4  0.2  Iris-setosa\n",
              "2  4.7  3.2  1.3  0.2  Iris-setosa\n",
              "3  4.6  3.1  1.5  0.2  Iris-setosa\n",
              "4  5.0  3.6  1.4  0.2  Iris-setosa"
            ],
            "text/html": [
              "\n",
              "  <div id=\"df-55b7089c-f411-43fe-bf6e-50bc2eda0146\" class=\"colab-df-container\">\n",
              "    <div>\n",
              "<style scoped>\n",
              "    .dataframe tbody tr th:only-of-type {\n",
              "        vertical-align: middle;\n",
              "    }\n",
              "\n",
              "    .dataframe tbody tr th {\n",
              "        vertical-align: top;\n",
              "    }\n",
              "\n",
              "    .dataframe thead th {\n",
              "        text-align: right;\n",
              "    }\n",
              "</style>\n",
              "<table border=\"1\" class=\"dataframe\">\n",
              "  <thead>\n",
              "    <tr style=\"text-align: right;\">\n",
              "      <th></th>\n",
              "      <th>0</th>\n",
              "      <th>1</th>\n",
              "      <th>2</th>\n",
              "      <th>3</th>\n",
              "      <th>4</th>\n",
              "    </tr>\n",
              "  </thead>\n",
              "  <tbody>\n",
              "    <tr>\n",
              "      <th>0</th>\n",
              "      <td>5.1</td>\n",
              "      <td>3.5</td>\n",
              "      <td>1.4</td>\n",
              "      <td>0.2</td>\n",
              "      <td>Iris-setosa</td>\n",
              "    </tr>\n",
              "    <tr>\n",
              "      <th>1</th>\n",
              "      <td>4.9</td>\n",
              "      <td>3.0</td>\n",
              "      <td>1.4</td>\n",
              "      <td>0.2</td>\n",
              "      <td>Iris-setosa</td>\n",
              "    </tr>\n",
              "    <tr>\n",
              "      <th>2</th>\n",
              "      <td>4.7</td>\n",
              "      <td>3.2</td>\n",
              "      <td>1.3</td>\n",
              "      <td>0.2</td>\n",
              "      <td>Iris-setosa</td>\n",
              "    </tr>\n",
              "    <tr>\n",
              "      <th>3</th>\n",
              "      <td>4.6</td>\n",
              "      <td>3.1</td>\n",
              "      <td>1.5</td>\n",
              "      <td>0.2</td>\n",
              "      <td>Iris-setosa</td>\n",
              "    </tr>\n",
              "    <tr>\n",
              "      <th>4</th>\n",
              "      <td>5.0</td>\n",
              "      <td>3.6</td>\n",
              "      <td>1.4</td>\n",
              "      <td>0.2</td>\n",
              "      <td>Iris-setosa</td>\n",
              "    </tr>\n",
              "  </tbody>\n",
              "</table>\n",
              "</div>\n",
              "    <div class=\"colab-df-buttons\">\n",
              "\n",
              "  <div class=\"colab-df-container\">\n",
              "    <button class=\"colab-df-convert\" onclick=\"convertToInteractive('df-55b7089c-f411-43fe-bf6e-50bc2eda0146')\"\n",
              "            title=\"Convert this dataframe to an interactive table.\"\n",
              "            style=\"display:none;\">\n",
              "\n",
              "  <svg xmlns=\"http://www.w3.org/2000/svg\" height=\"24px\" viewBox=\"0 -960 960 960\">\n",
              "    <path d=\"M120-120v-720h720v720H120Zm60-500h600v-160H180v160Zm220 220h160v-160H400v160Zm0 220h160v-160H400v160ZM180-400h160v-160H180v160Zm440 0h160v-160H620v160ZM180-180h160v-160H180v160Zm440 0h160v-160H620v160Z\"/>\n",
              "  </svg>\n",
              "    </button>\n",
              "\n",
              "  <style>\n",
              "    .colab-df-container {\n",
              "      display:flex;\n",
              "      gap: 12px;\n",
              "    }\n",
              "\n",
              "    .colab-df-convert {\n",
              "      background-color: #E8F0FE;\n",
              "      border: none;\n",
              "      border-radius: 50%;\n",
              "      cursor: pointer;\n",
              "      display: none;\n",
              "      fill: #1967D2;\n",
              "      height: 32px;\n",
              "      padding: 0 0 0 0;\n",
              "      width: 32px;\n",
              "    }\n",
              "\n",
              "    .colab-df-convert:hover {\n",
              "      background-color: #E2EBFA;\n",
              "      box-shadow: 0px 1px 2px rgba(60, 64, 67, 0.3), 0px 1px 3px 1px rgba(60, 64, 67, 0.15);\n",
              "      fill: #174EA6;\n",
              "    }\n",
              "\n",
              "    .colab-df-buttons div {\n",
              "      margin-bottom: 4px;\n",
              "    }\n",
              "\n",
              "    [theme=dark] .colab-df-convert {\n",
              "      background-color: #3B4455;\n",
              "      fill: #D2E3FC;\n",
              "    }\n",
              "\n",
              "    [theme=dark] .colab-df-convert:hover {\n",
              "      background-color: #434B5C;\n",
              "      box-shadow: 0px 1px 3px 1px rgba(0, 0, 0, 0.15);\n",
              "      filter: drop-shadow(0px 1px 2px rgba(0, 0, 0, 0.3));\n",
              "      fill: #FFFFFF;\n",
              "    }\n",
              "  </style>\n",
              "\n",
              "    <script>\n",
              "      const buttonEl =\n",
              "        document.querySelector('#df-55b7089c-f411-43fe-bf6e-50bc2eda0146 button.colab-df-convert');\n",
              "      buttonEl.style.display =\n",
              "        google.colab.kernel.accessAllowed ? 'block' : 'none';\n",
              "\n",
              "      async function convertToInteractive(key) {\n",
              "        const element = document.querySelector('#df-55b7089c-f411-43fe-bf6e-50bc2eda0146');\n",
              "        const dataTable =\n",
              "          await google.colab.kernel.invokeFunction('convertToInteractive',\n",
              "                                                    [key], {});\n",
              "        if (!dataTable) return;\n",
              "\n",
              "        const docLinkHtml = 'Like what you see? Visit the ' +\n",
              "          '<a target=\"_blank\" href=https://colab.research.google.com/notebooks/data_table.ipynb>data table notebook</a>'\n",
              "          + ' to learn more about interactive tables.';\n",
              "        element.innerHTML = '';\n",
              "        dataTable['output_type'] = 'display_data';\n",
              "        await google.colab.output.renderOutput(dataTable, element);\n",
              "        const docLink = document.createElement('div');\n",
              "        docLink.innerHTML = docLinkHtml;\n",
              "        element.appendChild(docLink);\n",
              "      }\n",
              "    </script>\n",
              "  </div>\n",
              "\n",
              "\n",
              "    <div id=\"df-b0c91d99-c023-46c1-8e59-77de40305b58\">\n",
              "      <button class=\"colab-df-quickchart\" onclick=\"quickchart('df-b0c91d99-c023-46c1-8e59-77de40305b58')\"\n",
              "                title=\"Suggest charts\"\n",
              "                style=\"display:none;\">\n",
              "\n",
              "<svg xmlns=\"http://www.w3.org/2000/svg\" height=\"24px\"viewBox=\"0 0 24 24\"\n",
              "     width=\"24px\">\n",
              "    <g>\n",
              "        <path d=\"M19 3H5c-1.1 0-2 .9-2 2v14c0 1.1.9 2 2 2h14c1.1 0 2-.9 2-2V5c0-1.1-.9-2-2-2zM9 17H7v-7h2v7zm4 0h-2V7h2v10zm4 0h-2v-4h2v4z\"/>\n",
              "    </g>\n",
              "</svg>\n",
              "      </button>\n",
              "\n",
              "<style>\n",
              "  .colab-df-quickchart {\n",
              "      --bg-color: #E8F0FE;\n",
              "      --fill-color: #1967D2;\n",
              "      --hover-bg-color: #E2EBFA;\n",
              "      --hover-fill-color: #174EA6;\n",
              "      --disabled-fill-color: #AAA;\n",
              "      --disabled-bg-color: #DDD;\n",
              "  }\n",
              "\n",
              "  [theme=dark] .colab-df-quickchart {\n",
              "      --bg-color: #3B4455;\n",
              "      --fill-color: #D2E3FC;\n",
              "      --hover-bg-color: #434B5C;\n",
              "      --hover-fill-color: #FFFFFF;\n",
              "      --disabled-bg-color: #3B4455;\n",
              "      --disabled-fill-color: #666;\n",
              "  }\n",
              "\n",
              "  .colab-df-quickchart {\n",
              "    background-color: var(--bg-color);\n",
              "    border: none;\n",
              "    border-radius: 50%;\n",
              "    cursor: pointer;\n",
              "    display: none;\n",
              "    fill: var(--fill-color);\n",
              "    height: 32px;\n",
              "    padding: 0;\n",
              "    width: 32px;\n",
              "  }\n",
              "\n",
              "  .colab-df-quickchart:hover {\n",
              "    background-color: var(--hover-bg-color);\n",
              "    box-shadow: 0 1px 2px rgba(60, 64, 67, 0.3), 0 1px 3px 1px rgba(60, 64, 67, 0.15);\n",
              "    fill: var(--button-hover-fill-color);\n",
              "  }\n",
              "\n",
              "  .colab-df-quickchart-complete:disabled,\n",
              "  .colab-df-quickchart-complete:disabled:hover {\n",
              "    background-color: var(--disabled-bg-color);\n",
              "    fill: var(--disabled-fill-color);\n",
              "    box-shadow: none;\n",
              "  }\n",
              "\n",
              "  .colab-df-spinner {\n",
              "    border: 2px solid var(--fill-color);\n",
              "    border-color: transparent;\n",
              "    border-bottom-color: var(--fill-color);\n",
              "    animation:\n",
              "      spin 1s steps(1) infinite;\n",
              "  }\n",
              "\n",
              "  @keyframes spin {\n",
              "    0% {\n",
              "      border-color: transparent;\n",
              "      border-bottom-color: var(--fill-color);\n",
              "      border-left-color: var(--fill-color);\n",
              "    }\n",
              "    20% {\n",
              "      border-color: transparent;\n",
              "      border-left-color: var(--fill-color);\n",
              "      border-top-color: var(--fill-color);\n",
              "    }\n",
              "    30% {\n",
              "      border-color: transparent;\n",
              "      border-left-color: var(--fill-color);\n",
              "      border-top-color: var(--fill-color);\n",
              "      border-right-color: var(--fill-color);\n",
              "    }\n",
              "    40% {\n",
              "      border-color: transparent;\n",
              "      border-right-color: var(--fill-color);\n",
              "      border-top-color: var(--fill-color);\n",
              "    }\n",
              "    60% {\n",
              "      border-color: transparent;\n",
              "      border-right-color: var(--fill-color);\n",
              "    }\n",
              "    80% {\n",
              "      border-color: transparent;\n",
              "      border-right-color: var(--fill-color);\n",
              "      border-bottom-color: var(--fill-color);\n",
              "    }\n",
              "    90% {\n",
              "      border-color: transparent;\n",
              "      border-bottom-color: var(--fill-color);\n",
              "    }\n",
              "  }\n",
              "</style>\n",
              "\n",
              "      <script>\n",
              "        async function quickchart(key) {\n",
              "          const quickchartButtonEl =\n",
              "            document.querySelector('#' + key + ' button');\n",
              "          quickchartButtonEl.disabled = true;  // To prevent multiple clicks.\n",
              "          quickchartButtonEl.classList.add('colab-df-spinner');\n",
              "          try {\n",
              "            const charts = await google.colab.kernel.invokeFunction(\n",
              "                'suggestCharts', [key], {});\n",
              "          } catch (error) {\n",
              "            console.error('Error during call to suggestCharts:', error);\n",
              "          }\n",
              "          quickchartButtonEl.classList.remove('colab-df-spinner');\n",
              "          quickchartButtonEl.classList.add('colab-df-quickchart-complete');\n",
              "        }\n",
              "        (() => {\n",
              "          let quickchartButtonEl =\n",
              "            document.querySelector('#df-b0c91d99-c023-46c1-8e59-77de40305b58 button');\n",
              "          quickchartButtonEl.style.display =\n",
              "            google.colab.kernel.accessAllowed ? 'block' : 'none';\n",
              "        })();\n",
              "      </script>\n",
              "    </div>\n",
              "\n",
              "    </div>\n",
              "  </div>\n"
            ],
            "application/vnd.google.colaboratory.intrinsic+json": {
              "type": "dataframe",
              "variable_name": "df",
              "summary": "{\n  \"name\": \"df\",\n  \"rows\": 100,\n  \"fields\": [\n    {\n      \"column\": 0,\n      \"properties\": {\n        \"dtype\": \"number\",\n        \"std\": 0.6416983463254117,\n        \"min\": 4.3,\n        \"max\": 7.0,\n        \"num_unique_values\": 28,\n        \"samples\": [\n          5.8,\n          6.7,\n          4.3\n        ],\n        \"semantic_type\": \"\",\n        \"description\": \"\"\n      }\n    },\n    {\n      \"column\": 1,\n      \"properties\": {\n        \"dtype\": \"number\",\n        \"std\": 0.47605703758090057,\n        \"min\": 2.0,\n        \"max\": 4.4,\n        \"num_unique_values\": 23,\n        \"samples\": [\n          2.3,\n          4.0,\n          3.5\n        ],\n        \"semantic_type\": \"\",\n        \"description\": \"\"\n      }\n    },\n    {\n      \"column\": 2,\n      \"properties\": {\n        \"dtype\": \"number\",\n        \"std\": 1.4485645977792618,\n        \"min\": 1.0,\n        \"max\": 5.1,\n        \"num_unique_values\": 28,\n        \"samples\": [\n          4.7,\n          3.7,\n          1.9\n        ],\n        \"semantic_type\": \"\",\n        \"description\": \"\"\n      }\n    },\n    {\n      \"column\": 3,\n      \"properties\": {\n        \"dtype\": \"number\",\n        \"std\": 0.5662877521029553,\n        \"min\": 0.1,\n        \"max\": 1.8,\n        \"num_unique_values\": 15,\n        \"samples\": [\n          1.6,\n          1.1,\n          0.2\n        ],\n        \"semantic_type\": \"\",\n        \"description\": \"\"\n      }\n    },\n    {\n      \"column\": 4,\n      \"properties\": {\n        \"dtype\": \"category\",\n        \"num_unique_values\": 2,\n        \"samples\": [\n          \"Iris-versicolor\",\n          \"Iris-setosa\"\n        ],\n        \"semantic_type\": \"\",\n        \"description\": \"\"\n      }\n    }\n  ]\n}"
            }
          },
          "metadata": {},
          "execution_count": 37
        }
      ]
    },
    {
      "cell_type": "code",
      "source": [
        "print(df.shape)"
      ],
      "metadata": {
        "colab": {
          "base_uri": "https://localhost:8080/"
        },
        "id": "QQOUEH5YRwWR",
        "outputId": "6bfe78d2-970a-42c4-b59b-64f7b7913cdb"
      },
      "execution_count": 38,
      "outputs": [
        {
          "output_type": "stream",
          "name": "stdout",
          "text": [
            "(100, 5)\n"
          ]
        }
      ]
    },
    {
      "cell_type": "code",
      "source": [
        "#ubah kelas iris sentosa=0, iris-Iris-versicolor=1\n",
        "df[4] = df[4].map({'Iris-setosa': 0, 'Iris-versicolor': 1})\n",
        "df.head()"
      ],
      "metadata": {
        "colab": {
          "base_uri": "https://localhost:8080/",
          "height": 206
        },
        "id": "6w108HDURY-E",
        "outputId": "7803b5db-dcb9-446c-b33b-b1987f683397"
      },
      "execution_count": 39,
      "outputs": [
        {
          "output_type": "execute_result",
          "data": {
            "text/plain": [
              "     0    1    2    3  4\n",
              "0  5.1  3.5  1.4  0.2  0\n",
              "1  4.9  3.0  1.4  0.2  0\n",
              "2  4.7  3.2  1.3  0.2  0\n",
              "3  4.6  3.1  1.5  0.2  0\n",
              "4  5.0  3.6  1.4  0.2  0"
            ],
            "text/html": [
              "\n",
              "  <div id=\"df-696b2dd1-7527-458f-b688-73ed8cea0918\" class=\"colab-df-container\">\n",
              "    <div>\n",
              "<style scoped>\n",
              "    .dataframe tbody tr th:only-of-type {\n",
              "        vertical-align: middle;\n",
              "    }\n",
              "\n",
              "    .dataframe tbody tr th {\n",
              "        vertical-align: top;\n",
              "    }\n",
              "\n",
              "    .dataframe thead th {\n",
              "        text-align: right;\n",
              "    }\n",
              "</style>\n",
              "<table border=\"1\" class=\"dataframe\">\n",
              "  <thead>\n",
              "    <tr style=\"text-align: right;\">\n",
              "      <th></th>\n",
              "      <th>0</th>\n",
              "      <th>1</th>\n",
              "      <th>2</th>\n",
              "      <th>3</th>\n",
              "      <th>4</th>\n",
              "    </tr>\n",
              "  </thead>\n",
              "  <tbody>\n",
              "    <tr>\n",
              "      <th>0</th>\n",
              "      <td>5.1</td>\n",
              "      <td>3.5</td>\n",
              "      <td>1.4</td>\n",
              "      <td>0.2</td>\n",
              "      <td>0</td>\n",
              "    </tr>\n",
              "    <tr>\n",
              "      <th>1</th>\n",
              "      <td>4.9</td>\n",
              "      <td>3.0</td>\n",
              "      <td>1.4</td>\n",
              "      <td>0.2</td>\n",
              "      <td>0</td>\n",
              "    </tr>\n",
              "    <tr>\n",
              "      <th>2</th>\n",
              "      <td>4.7</td>\n",
              "      <td>3.2</td>\n",
              "      <td>1.3</td>\n",
              "      <td>0.2</td>\n",
              "      <td>0</td>\n",
              "    </tr>\n",
              "    <tr>\n",
              "      <th>3</th>\n",
              "      <td>4.6</td>\n",
              "      <td>3.1</td>\n",
              "      <td>1.5</td>\n",
              "      <td>0.2</td>\n",
              "      <td>0</td>\n",
              "    </tr>\n",
              "    <tr>\n",
              "      <th>4</th>\n",
              "      <td>5.0</td>\n",
              "      <td>3.6</td>\n",
              "      <td>1.4</td>\n",
              "      <td>0.2</td>\n",
              "      <td>0</td>\n",
              "    </tr>\n",
              "  </tbody>\n",
              "</table>\n",
              "</div>\n",
              "    <div class=\"colab-df-buttons\">\n",
              "\n",
              "  <div class=\"colab-df-container\">\n",
              "    <button class=\"colab-df-convert\" onclick=\"convertToInteractive('df-696b2dd1-7527-458f-b688-73ed8cea0918')\"\n",
              "            title=\"Convert this dataframe to an interactive table.\"\n",
              "            style=\"display:none;\">\n",
              "\n",
              "  <svg xmlns=\"http://www.w3.org/2000/svg\" height=\"24px\" viewBox=\"0 -960 960 960\">\n",
              "    <path d=\"M120-120v-720h720v720H120Zm60-500h600v-160H180v160Zm220 220h160v-160H400v160Zm0 220h160v-160H400v160ZM180-400h160v-160H180v160Zm440 0h160v-160H620v160ZM180-180h160v-160H180v160Zm440 0h160v-160H620v160Z\"/>\n",
              "  </svg>\n",
              "    </button>\n",
              "\n",
              "  <style>\n",
              "    .colab-df-container {\n",
              "      display:flex;\n",
              "      gap: 12px;\n",
              "    }\n",
              "\n",
              "    .colab-df-convert {\n",
              "      background-color: #E8F0FE;\n",
              "      border: none;\n",
              "      border-radius: 50%;\n",
              "      cursor: pointer;\n",
              "      display: none;\n",
              "      fill: #1967D2;\n",
              "      height: 32px;\n",
              "      padding: 0 0 0 0;\n",
              "      width: 32px;\n",
              "    }\n",
              "\n",
              "    .colab-df-convert:hover {\n",
              "      background-color: #E2EBFA;\n",
              "      box-shadow: 0px 1px 2px rgba(60, 64, 67, 0.3), 0px 1px 3px 1px rgba(60, 64, 67, 0.15);\n",
              "      fill: #174EA6;\n",
              "    }\n",
              "\n",
              "    .colab-df-buttons div {\n",
              "      margin-bottom: 4px;\n",
              "    }\n",
              "\n",
              "    [theme=dark] .colab-df-convert {\n",
              "      background-color: #3B4455;\n",
              "      fill: #D2E3FC;\n",
              "    }\n",
              "\n",
              "    [theme=dark] .colab-df-convert:hover {\n",
              "      background-color: #434B5C;\n",
              "      box-shadow: 0px 1px 3px 1px rgba(0, 0, 0, 0.15);\n",
              "      filter: drop-shadow(0px 1px 2px rgba(0, 0, 0, 0.3));\n",
              "      fill: #FFFFFF;\n",
              "    }\n",
              "  </style>\n",
              "\n",
              "    <script>\n",
              "      const buttonEl =\n",
              "        document.querySelector('#df-696b2dd1-7527-458f-b688-73ed8cea0918 button.colab-df-convert');\n",
              "      buttonEl.style.display =\n",
              "        google.colab.kernel.accessAllowed ? 'block' : 'none';\n",
              "\n",
              "      async function convertToInteractive(key) {\n",
              "        const element = document.querySelector('#df-696b2dd1-7527-458f-b688-73ed8cea0918');\n",
              "        const dataTable =\n",
              "          await google.colab.kernel.invokeFunction('convertToInteractive',\n",
              "                                                    [key], {});\n",
              "        if (!dataTable) return;\n",
              "\n",
              "        const docLinkHtml = 'Like what you see? Visit the ' +\n",
              "          '<a target=\"_blank\" href=https://colab.research.google.com/notebooks/data_table.ipynb>data table notebook</a>'\n",
              "          + ' to learn more about interactive tables.';\n",
              "        element.innerHTML = '';\n",
              "        dataTable['output_type'] = 'display_data';\n",
              "        await google.colab.output.renderOutput(dataTable, element);\n",
              "        const docLink = document.createElement('div');\n",
              "        docLink.innerHTML = docLinkHtml;\n",
              "        element.appendChild(docLink);\n",
              "      }\n",
              "    </script>\n",
              "  </div>\n",
              "\n",
              "\n",
              "    <div id=\"df-f210951a-9615-46bc-9775-ff75786867f9\">\n",
              "      <button class=\"colab-df-quickchart\" onclick=\"quickchart('df-f210951a-9615-46bc-9775-ff75786867f9')\"\n",
              "                title=\"Suggest charts\"\n",
              "                style=\"display:none;\">\n",
              "\n",
              "<svg xmlns=\"http://www.w3.org/2000/svg\" height=\"24px\"viewBox=\"0 0 24 24\"\n",
              "     width=\"24px\">\n",
              "    <g>\n",
              "        <path d=\"M19 3H5c-1.1 0-2 .9-2 2v14c0 1.1.9 2 2 2h14c1.1 0 2-.9 2-2V5c0-1.1-.9-2-2-2zM9 17H7v-7h2v7zm4 0h-2V7h2v10zm4 0h-2v-4h2v4z\"/>\n",
              "    </g>\n",
              "</svg>\n",
              "      </button>\n",
              "\n",
              "<style>\n",
              "  .colab-df-quickchart {\n",
              "      --bg-color: #E8F0FE;\n",
              "      --fill-color: #1967D2;\n",
              "      --hover-bg-color: #E2EBFA;\n",
              "      --hover-fill-color: #174EA6;\n",
              "      --disabled-fill-color: #AAA;\n",
              "      --disabled-bg-color: #DDD;\n",
              "  }\n",
              "\n",
              "  [theme=dark] .colab-df-quickchart {\n",
              "      --bg-color: #3B4455;\n",
              "      --fill-color: #D2E3FC;\n",
              "      --hover-bg-color: #434B5C;\n",
              "      --hover-fill-color: #FFFFFF;\n",
              "      --disabled-bg-color: #3B4455;\n",
              "      --disabled-fill-color: #666;\n",
              "  }\n",
              "\n",
              "  .colab-df-quickchart {\n",
              "    background-color: var(--bg-color);\n",
              "    border: none;\n",
              "    border-radius: 50%;\n",
              "    cursor: pointer;\n",
              "    display: none;\n",
              "    fill: var(--fill-color);\n",
              "    height: 32px;\n",
              "    padding: 0;\n",
              "    width: 32px;\n",
              "  }\n",
              "\n",
              "  .colab-df-quickchart:hover {\n",
              "    background-color: var(--hover-bg-color);\n",
              "    box-shadow: 0 1px 2px rgba(60, 64, 67, 0.3), 0 1px 3px 1px rgba(60, 64, 67, 0.15);\n",
              "    fill: var(--button-hover-fill-color);\n",
              "  }\n",
              "\n",
              "  .colab-df-quickchart-complete:disabled,\n",
              "  .colab-df-quickchart-complete:disabled:hover {\n",
              "    background-color: var(--disabled-bg-color);\n",
              "    fill: var(--disabled-fill-color);\n",
              "    box-shadow: none;\n",
              "  }\n",
              "\n",
              "  .colab-df-spinner {\n",
              "    border: 2px solid var(--fill-color);\n",
              "    border-color: transparent;\n",
              "    border-bottom-color: var(--fill-color);\n",
              "    animation:\n",
              "      spin 1s steps(1) infinite;\n",
              "  }\n",
              "\n",
              "  @keyframes spin {\n",
              "    0% {\n",
              "      border-color: transparent;\n",
              "      border-bottom-color: var(--fill-color);\n",
              "      border-left-color: var(--fill-color);\n",
              "    }\n",
              "    20% {\n",
              "      border-color: transparent;\n",
              "      border-left-color: var(--fill-color);\n",
              "      border-top-color: var(--fill-color);\n",
              "    }\n",
              "    30% {\n",
              "      border-color: transparent;\n",
              "      border-left-color: var(--fill-color);\n",
              "      border-top-color: var(--fill-color);\n",
              "      border-right-color: var(--fill-color);\n",
              "    }\n",
              "    40% {\n",
              "      border-color: transparent;\n",
              "      border-right-color: var(--fill-color);\n",
              "      border-top-color: var(--fill-color);\n",
              "    }\n",
              "    60% {\n",
              "      border-color: transparent;\n",
              "      border-right-color: var(--fill-color);\n",
              "    }\n",
              "    80% {\n",
              "      border-color: transparent;\n",
              "      border-right-color: var(--fill-color);\n",
              "      border-bottom-color: var(--fill-color);\n",
              "    }\n",
              "    90% {\n",
              "      border-color: transparent;\n",
              "      border-bottom-color: var(--fill-color);\n",
              "    }\n",
              "  }\n",
              "</style>\n",
              "\n",
              "      <script>\n",
              "        async function quickchart(key) {\n",
              "          const quickchartButtonEl =\n",
              "            document.querySelector('#' + key + ' button');\n",
              "          quickchartButtonEl.disabled = true;  // To prevent multiple clicks.\n",
              "          quickchartButtonEl.classList.add('colab-df-spinner');\n",
              "          try {\n",
              "            const charts = await google.colab.kernel.invokeFunction(\n",
              "                'suggestCharts', [key], {});\n",
              "          } catch (error) {\n",
              "            console.error('Error during call to suggestCharts:', error);\n",
              "          }\n",
              "          quickchartButtonEl.classList.remove('colab-df-spinner');\n",
              "          quickchartButtonEl.classList.add('colab-df-quickchart-complete');\n",
              "        }\n",
              "        (() => {\n",
              "          let quickchartButtonEl =\n",
              "            document.querySelector('#df-f210951a-9615-46bc-9775-ff75786867f9 button');\n",
              "          quickchartButtonEl.style.display =\n",
              "            google.colab.kernel.accessAllowed ? 'block' : 'none';\n",
              "        })();\n",
              "      </script>\n",
              "    </div>\n",
              "\n",
              "    </div>\n",
              "  </div>\n"
            ],
            "application/vnd.google.colaboratory.intrinsic+json": {
              "type": "dataframe",
              "variable_name": "df",
              "summary": "{\n  \"name\": \"df\",\n  \"rows\": 100,\n  \"fields\": [\n    {\n      \"column\": 0,\n      \"properties\": {\n        \"dtype\": \"number\",\n        \"std\": 0.6416983463254117,\n        \"min\": 4.3,\n        \"max\": 7.0,\n        \"num_unique_values\": 28,\n        \"samples\": [\n          5.8,\n          6.7,\n          4.3\n        ],\n        \"semantic_type\": \"\",\n        \"description\": \"\"\n      }\n    },\n    {\n      \"column\": 1,\n      \"properties\": {\n        \"dtype\": \"number\",\n        \"std\": 0.47605703758090057,\n        \"min\": 2.0,\n        \"max\": 4.4,\n        \"num_unique_values\": 23,\n        \"samples\": [\n          2.3,\n          4.0,\n          3.5\n        ],\n        \"semantic_type\": \"\",\n        \"description\": \"\"\n      }\n    },\n    {\n      \"column\": 2,\n      \"properties\": {\n        \"dtype\": \"number\",\n        \"std\": 1.4485645977792618,\n        \"min\": 1.0,\n        \"max\": 5.1,\n        \"num_unique_values\": 28,\n        \"samples\": [\n          4.7,\n          3.7,\n          1.9\n        ],\n        \"semantic_type\": \"\",\n        \"description\": \"\"\n      }\n    },\n    {\n      \"column\": 3,\n      \"properties\": {\n        \"dtype\": \"number\",\n        \"std\": 0.5662877521029553,\n        \"min\": 0.1,\n        \"max\": 1.8,\n        \"num_unique_values\": 15,\n        \"samples\": [\n          1.6,\n          1.1,\n          0.2\n        ],\n        \"semantic_type\": \"\",\n        \"description\": \"\"\n      }\n    },\n    {\n      \"column\": 4,\n      \"properties\": {\n        \"dtype\": \"number\",\n        \"std\": 0,\n        \"min\": 0,\n        \"max\": 1,\n        \"num_unique_values\": 2,\n        \"samples\": [\n          1,\n          0\n        ],\n        \"semantic_type\": \"\",\n        \"description\": \"\"\n      }\n    }\n  ]\n}"
            }
          },
          "metadata": {},
          "execution_count": 39
        }
      ]
    },
    {
      "cell_type": "code",
      "source": [
        "#Split train test kemudian save data untuk perbandingan di excel dengan stratisfy agar datanya seimbang"
      ],
      "metadata": {
        "id": "ZIGfinorR5pJ"
      },
      "execution_count": 40,
      "outputs": []
    },
    {
      "cell_type": "code",
      "source": [
        "X = df.drop(columns=[4]).values\n",
        "y = df[4].values\n",
        "\n",
        "X_train, X_test, y_train, y_test = train_test_split(\n",
        "    X, y, test_size=0.2, random_state=42, stratify=y\n",
        ")"
      ],
      "metadata": {
        "id": "U9B09-LSSPie"
      },
      "execution_count": 41,
      "outputs": []
    },
    {
      "cell_type": "code",
      "source": [
        "train_df = pd.DataFrame(np.column_stack((X_train, y_train)), columns=list(df.columns[:-1]) + [4])\n",
        "test_df = pd.DataFrame(np.column_stack((X_test, y_test)), columns=list(df.columns[:-1]) + [4])\n",
        "\n",
        "train_df.to_excel(\"train.xlsx\", index=False, header=False)\n",
        "test_df.to_excel(\"test.xlsx\", index=False, header=False)"
      ],
      "metadata": {
        "id": "hNxLRt3hSVk5"
      },
      "execution_count": 42,
      "outputs": []
    },
    {
      "cell_type": "code",
      "source": [
        "# Tambahkan feature yang isinya 1 untuk bias di awal\n",
        "X_train = np.hstack([np.ones((X_train.shape[0], 1)), X_train])\n",
        "X_test  = np.hstack([np.ones((X_test.shape[0], 1)), X_test])"
      ],
      "metadata": {
        "id": "G8X7ouooSZPR"
      },
      "execution_count": 43,
      "outputs": []
    },
    {
      "cell_type": "code",
      "source": [
        "X_train"
      ],
      "metadata": {
        "colab": {
          "base_uri": "https://localhost:8080/"
        },
        "id": "3ZKLOlh-Sk1v",
        "outputId": "67f4abed-05a2-4213-8991-2ff7fa316ee1"
      },
      "execution_count": 44,
      "outputs": [
        {
          "output_type": "execute_result",
          "data": {
            "text/plain": [
              "array([[1. , 5.7, 4.4, 1.5, 0.4],\n",
              "       [1. , 6.9, 3.1, 4.9, 1.5],\n",
              "       [1. , 5. , 2. , 3.5, 1. ],\n",
              "       [1. , 5.6, 3. , 4.5, 1.5],\n",
              "       [1. , 6.2, 2.2, 4.5, 1.5],\n",
              "       [1. , 4.6, 3.4, 1.4, 0.3],\n",
              "       [1. , 5.4, 3.4, 1.5, 0.4],\n",
              "       [1. , 5.2, 2.7, 3.9, 1.4],\n",
              "       [1. , 5.1, 3.8, 1.6, 0.2],\n",
              "       [1. , 5.7, 2.8, 4.1, 1.3],\n",
              "       [1. , 4.9, 3.1, 1.5, 0.1],\n",
              "       [1. , 5. , 3.2, 1.2, 0.2],\n",
              "       [1. , 6.7, 3.1, 4.7, 1.5],\n",
              "       [1. , 6. , 2.9, 4.5, 1.5],\n",
              "       [1. , 5.5, 2.5, 4. , 1.3],\n",
              "       [1. , 4.5, 2.3, 1.3, 0.3],\n",
              "       [1. , 5.5, 2.4, 3.8, 1.1],\n",
              "       [1. , 4.7, 3.2, 1.3, 0.2],\n",
              "       [1. , 4.8, 3. , 1.4, 0.1],\n",
              "       [1. , 6.4, 2.9, 4.3, 1.3],\n",
              "       [1. , 5.9, 3. , 4.2, 1.5],\n",
              "       [1. , 5.3, 3.7, 1.5, 0.2],\n",
              "       [1. , 4.9, 3.1, 1.5, 0.1],\n",
              "       [1. , 4.7, 3.2, 1.6, 0.2],\n",
              "       [1. , 5.1, 3.8, 1.5, 0.3],\n",
              "       [1. , 5.1, 3.4, 1.5, 0.2],\n",
              "       [1. , 5.9, 3.2, 4.8, 1.8],\n",
              "       [1. , 4.6, 3.2, 1.4, 0.2],\n",
              "       [1. , 6.1, 2.8, 4. , 1.3],\n",
              "       [1. , 5.8, 2.7, 4.1, 1. ],\n",
              "       [1. , 6.3, 2.3, 4.4, 1.3],\n",
              "       [1. , 6.5, 2.8, 4.6, 1.5],\n",
              "       [1. , 5.5, 4.2, 1.4, 0.2],\n",
              "       [1. , 6.8, 2.8, 4.8, 1.4],\n",
              "       [1. , 5.5, 2.6, 4.4, 1.2],\n",
              "       [1. , 5.4, 3.9, 1.7, 0.4],\n",
              "       [1. , 4.8, 3. , 1.4, 0.3],\n",
              "       [1. , 6.7, 3.1, 4.4, 1.4],\n",
              "       [1. , 6.1, 3. , 4.6, 1.4],\n",
              "       [1. , 4.8, 3.4, 1.6, 0.2],\n",
              "       [1. , 4.9, 3.1, 1.5, 0.1],\n",
              "       [1. , 5.6, 3. , 4.1, 1.3],\n",
              "       [1. , 7. , 3.2, 4.7, 1.4],\n",
              "       [1. , 5.7, 3. , 4.2, 1.2],\n",
              "       [1. , 4.6, 3.1, 1.5, 0.2],\n",
              "       [1. , 5.2, 4.1, 1.5, 0.1],\n",
              "       [1. , 5.5, 2.4, 3.7, 1. ],\n",
              "       [1. , 5.1, 3.3, 1.7, 0.5],\n",
              "       [1. , 6. , 2.7, 5.1, 1.6],\n",
              "       [1. , 5.1, 3.5, 1.4, 0.2],\n",
              "       [1. , 5.7, 2.8, 4.5, 1.3],\n",
              "       [1. , 5.8, 2.7, 3.9, 1.2],\n",
              "       [1. , 4.8, 3.1, 1.6, 0.2],\n",
              "       [1. , 4.4, 2.9, 1.4, 0.2],\n",
              "       [1. , 6.3, 2.5, 4.9, 1.5],\n",
              "       [1. , 5.6, 2.9, 3.6, 1.3],\n",
              "       [1. , 6. , 2.2, 4. , 1. ],\n",
              "       [1. , 4.3, 3. , 1.1, 0.1],\n",
              "       [1. , 5.8, 2.6, 4. , 1.2],\n",
              "       [1. , 5.1, 3.8, 1.9, 0.4],\n",
              "       [1. , 5.4, 3.9, 1.3, 0.4],\n",
              "       [1. , 5. , 3.5, 1.3, 0.3],\n",
              "       [1. , 5.7, 2.9, 4.2, 1.3],\n",
              "       [1. , 5.5, 2.3, 4. , 1.3],\n",
              "       [1. , 5. , 3.5, 1.6, 0.6],\n",
              "       [1. , 6.1, 2.8, 4.7, 1.2],\n",
              "       [1. , 4.8, 3.4, 1.9, 0.2],\n",
              "       [1. , 5.6, 2.7, 4.2, 1.3],\n",
              "       [1. , 6.2, 2.9, 4.3, 1.3],\n",
              "       [1. , 4.9, 3. , 1.4, 0.2],\n",
              "       [1. , 5. , 3.6, 1.4, 0.2],\n",
              "       [1. , 5.1, 2.5, 3. , 1.1],\n",
              "       [1. , 5. , 3.4, 1.6, 0.4],\n",
              "       [1. , 5.2, 3.5, 1.5, 0.2],\n",
              "       [1. , 5.7, 2.6, 3.5, 1. ],\n",
              "       [1. , 5.1, 3.5, 1.4, 0.3],\n",
              "       [1. , 5.5, 3.5, 1.3, 0.2],\n",
              "       [1. , 6. , 3.4, 4.5, 1.6],\n",
              "       [1. , 5.1, 3.7, 1.5, 0.4],\n",
              "       [1. , 5. , 3. , 1.6, 0.2]])"
            ]
          },
          "metadata": {},
          "execution_count": 44
        }
      ]
    },
    {
      "cell_type": "markdown",
      "source": [
        "Di cek data sudah sesuai dan siap untuk modelling"
      ],
      "metadata": {
        "id": "1wW9dfevSm9e"
      }
    },
    {
      "cell_type": "markdown",
      "source": [
        "## Modelling"
      ],
      "metadata": {
        "id": "Qt3i65GzSqYW"
      }
    },
    {
      "cell_type": "markdown",
      "source": [
        "Akan dilakukan modelling dengan 5 epoch, kemudian buat grafik loss dan akurasi untuk train dan test. Dengan inisasi bobot dari w dan bias adalah 0.5 dan lr=0.1"
      ],
      "metadata": {
        "id": "fgu1UZgkSz1J"
      }
    },
    {
      "cell_type": "code",
      "source": [
        "#Definisikan fungsi yang dibutuhkan\n",
        "def sigmoid(z):\n",
        "    return 1 / (1 + np.exp(-z))\n",
        "\n",
        "def predict_probs(X, W):\n",
        "    return sigmoid(np.dot(X, W))\n",
        "\n",
        "def predict_labels(X, W):\n",
        "    return (predict_probs(X, W) >= 0.5).astype(int)\n",
        "\n",
        "def compute_loss(y_true, y_pred):\n",
        "    y_true = np.array(y_true)\n",
        "    y_pred = np.array(y_pred)\n",
        "    return np.sum((y_true - y_pred) ** 2)"
      ],
      "metadata": {
        "id": "6uKNBaTDTGRS"
      },
      "execution_count": 45,
      "outputs": []
    },
    {
      "cell_type": "code",
      "source": [
        "#Inisiasi Awal\n",
        "W = np.ones(5) * 0.5 #Ini termasuk untukn  bias\n",
        "lr=0.1 #learning rate\n",
        "n_data=X_train.shape[0] #untuk membagi saat akurasi"
      ],
      "metadata": {
        "id": "hfdS2Hu1Tqvg"
      },
      "execution_count": 46,
      "outputs": []
    },
    {
      "cell_type": "code",
      "source": [
        "# Buat untuk simpan akurasi dan loss\n",
        "train_losses, val_losses = [], []\n",
        "train_accs, val_accs = [], []"
      ],
      "metadata": {
        "id": "29HmI2J8T2kB"
      },
      "execution_count": 47,
      "outputs": []
    },
    {
      "cell_type": "markdown",
      "source": [
        "### Epoch 1"
      ],
      "metadata": {
        "id": "J8qyGJ6dUDic"
      }
    },
    {
      "cell_type": "code",
      "source": [
        "train_loss=0\n",
        "train_acc=0\n",
        "for xi, yi in zip(X_train, y_train):\n",
        "    y_prob = predict_probs(xi, W)\n",
        "    error = y_prob - yi\n",
        "    train_loss=train_loss+error*error\n",
        "\n",
        "    if(predict_labels(xi, W)==yi):\n",
        "      train_acc=train_acc+1/n_data\n",
        "\n",
        "\n",
        "    dW = 2*error*(1-y_prob)*y_prob*xi\n",
        "    W = W - lr * dW\n",
        "\n",
        "\n",
        "W #setelah training"
      ],
      "metadata": {
        "colab": {
          "base_uri": "https://localhost:8080/"
        },
        "id": "GxbnRNWtdN68",
        "outputId": "261818f7-7b05-492a-dfd0-4667bfdb965a"
      },
      "execution_count": 48,
      "outputs": [
        {
          "output_type": "execute_result",
          "data": {
            "text/plain": [
              "array([ 0.31621117, -0.38385646, -0.14691557,  0.35053835,  0.50013182])"
            ]
          },
          "metadata": {},
          "execution_count": 48
        }
      ]
    },
    {
      "cell_type": "code",
      "source": [
        "train_loss"
      ],
      "metadata": {
        "colab": {
          "base_uri": "https://localhost:8080/"
        },
        "id": "Y2y4Rxc-qN7y",
        "outputId": "34bc4981-0225-4178-bb97-e2452c2a0f63"
      },
      "execution_count": 49,
      "outputs": [
        {
          "output_type": "execute_result",
          "data": {
            "text/plain": [
              "np.float64(35.33571051326776)"
            ]
          },
          "metadata": {},
          "execution_count": 49
        }
      ]
    },
    {
      "cell_type": "code",
      "source": [
        "train_acc"
      ],
      "metadata": {
        "colab": {
          "base_uri": "https://localhost:8080/"
        },
        "id": "Us86x_8ErqeU",
        "outputId": "389335c0-9082-4f93-85e4-9e0c9749f0e6"
      },
      "execution_count": 50,
      "outputs": [
        {
          "output_type": "execute_result",
          "data": {
            "text/plain": [
              "0.5125000000000002"
            ]
          },
          "metadata": {},
          "execution_count": 50
        }
      ]
    },
    {
      "cell_type": "code",
      "source": [
        "# evaluasi validasi setelah weight di update\n",
        "y_probs_test = predict_probs(X_test, W)\n",
        "y_preds_test = (y_probs_test >= 0.5).astype(int)\n",
        "val_loss = compute_loss(y_test, y_probs_test)\n",
        "val_acc = np.mean(y_preds_test == y_test)"
      ],
      "metadata": {
        "id": "lqkOq9DeeZAr"
      },
      "execution_count": 51,
      "outputs": []
    },
    {
      "cell_type": "code",
      "source": [
        "val_acc"
      ],
      "metadata": {
        "colab": {
          "base_uri": "https://localhost:8080/"
        },
        "id": "Ok2sJnnPV23I",
        "outputId": "e7e652bd-5bde-4bf6-97ed-b0dc6aaa9724"
      },
      "execution_count": 52,
      "outputs": [
        {
          "output_type": "execute_result",
          "data": {
            "text/plain": [
              "np.float64(0.55)"
            ]
          },
          "metadata": {},
          "execution_count": 52
        }
      ]
    },
    {
      "cell_type": "code",
      "source": [
        "val_loss"
      ],
      "metadata": {
        "colab": {
          "base_uri": "https://localhost:8080/"
        },
        "id": "rOtzEjRBWAM7",
        "outputId": "d6fad58d-3aec-4ac7-e3f5-af99f9bcdf09"
      },
      "execution_count": 53,
      "outputs": [
        {
          "output_type": "execute_result",
          "data": {
            "text/plain": [
              "np.float64(3.3843863051790724)"
            ]
          },
          "metadata": {},
          "execution_count": 53
        }
      ]
    },
    {
      "cell_type": "code",
      "source": [
        "#Simpan data setiap Epoch\n",
        "train_losses.append(train_loss)\n",
        "train_accs.append(train_acc)\n",
        "val_losses.append(val_loss)\n",
        "val_accs.append(val_acc)"
      ],
      "metadata": {
        "id": "NgtCJj99d4FK"
      },
      "execution_count": 54,
      "outputs": []
    },
    {
      "cell_type": "markdown",
      "source": [
        "### Epoch 2"
      ],
      "metadata": {
        "id": "GNEpPBGBehA8"
      }
    },
    {
      "cell_type": "code",
      "source": [
        "train_loss=0\n",
        "train_acc=0\n",
        "for xi, yi in zip(X_train, y_train):\n",
        "    y_prob = predict_probs(xi, W)\n",
        "    error = y_prob - yi\n",
        "    train_loss=train_loss+error*error\n",
        "\n",
        "    if(predict_labels(xi, W)==yi):\n",
        "      train_acc=train_acc+1/n_data\n",
        "\n",
        "\n",
        "    dW = 2*error*(1-y_prob)*y_prob*xi\n",
        "    W = W - lr * dW\n",
        "\n",
        "\n",
        "W #setelah training"
      ],
      "metadata": {
        "colab": {
          "base_uri": "https://localhost:8080/"
        },
        "outputId": "0788ac23-6141-4519-e0cc-e584d981313f",
        "id": "zlfdmOSOehA8"
      },
      "execution_count": 55,
      "outputs": [
        {
          "output_type": "execute_result",
          "data": {
            "text/plain": [
              "array([ 0.24395298, -0.42674875, -0.53749166,  1.03802768,  0.79586933])"
            ]
          },
          "metadata": {},
          "execution_count": 55
        }
      ]
    },
    {
      "cell_type": "code",
      "source": [
        "# evaluasi validasi setelah weight di update\n",
        "y_probs_test = predict_probs(X_test, W)\n",
        "y_preds_test = (y_probs_test >= 0.5).astype(int)\n",
        "val_loss = compute_loss(y_test, y_probs_test)\n",
        "val_acc = np.mean(y_preds_test == y_test)"
      ],
      "metadata": {
        "id": "dRCYfELmehA8"
      },
      "execution_count": 56,
      "outputs": []
    },
    {
      "cell_type": "code",
      "source": [
        "#Simpan data setiap Epoch\n",
        "train_losses.append(train_loss)\n",
        "train_accs.append(train_acc)\n",
        "val_losses.append(val_loss)\n",
        "val_accs.append(val_acc)"
      ],
      "metadata": {
        "id": "OJc0MuZlehA8"
      },
      "execution_count": 57,
      "outputs": []
    },
    {
      "cell_type": "markdown",
      "source": [
        "### Epoch 3"
      ],
      "metadata": {
        "id": "bJOGODyTegT1"
      }
    },
    {
      "cell_type": "code",
      "source": [
        "train_loss=0\n",
        "train_acc=0\n",
        "for xi, yi in zip(X_train, y_train):\n",
        "    y_prob = predict_probs(xi, W)\n",
        "    error = y_prob - yi\n",
        "    train_loss=train_loss+error*error\n",
        "\n",
        "    if(predict_labels(xi, W)==yi):\n",
        "      train_acc=train_acc+1/n_data\n",
        "\n",
        "\n",
        "    dW = 2*error*(1-y_prob)*y_prob*xi\n",
        "    W = W - lr * dW\n",
        "\n",
        "\n",
        "W #setelah training"
      ],
      "metadata": {
        "colab": {
          "base_uri": "https://localhost:8080/"
        },
        "outputId": "6e36b39f-ce32-4d7f-8d38-166ed6f2bb7f",
        "id": "McTDSUmdegT1"
      },
      "execution_count": 58,
      "outputs": [
        {
          "output_type": "execute_result",
          "data": {
            "text/plain": [
              "array([ 0.21972066, -0.44434926, -0.6768766 ,  1.27435193,  0.89795973])"
            ]
          },
          "metadata": {},
          "execution_count": 58
        }
      ]
    },
    {
      "cell_type": "code",
      "source": [
        "# evaluasi validasi setelah weight di update\n",
        "y_probs_test = predict_probs(X_test, W)\n",
        "y_preds_test = (y_probs_test >= 0.5).astype(int)\n",
        "val_loss = compute_loss(y_test, y_probs_test)\n",
        "val_acc = np.mean(y_preds_test == y_test)"
      ],
      "metadata": {
        "id": "JKugNA4SegT2"
      },
      "execution_count": 59,
      "outputs": []
    },
    {
      "cell_type": "code",
      "source": [
        "#Simpan data setiap Epoch\n",
        "train_losses.append(train_loss)\n",
        "train_accs.append(train_acc)\n",
        "val_losses.append(val_loss)\n",
        "val_accs.append(val_acc)"
      ],
      "metadata": {
        "id": "MCG6tbxYegT2"
      },
      "execution_count": 60,
      "outputs": []
    },
    {
      "cell_type": "markdown",
      "source": [
        "### Epoch 4"
      ],
      "metadata": {
        "id": "LXijd_SvehQw"
      }
    },
    {
      "cell_type": "code",
      "source": [
        "train_loss=0\n",
        "train_acc=0\n",
        "for xi, yi in zip(X_train, y_train):\n",
        "    y_prob = predict_probs(xi, W)\n",
        "    error = y_prob - yi\n",
        "    train_loss=train_loss+error*error\n",
        "\n",
        "    if(predict_labels(xi, W)==yi):\n",
        "      train_acc=train_acc+1/n_data\n",
        "\n",
        "\n",
        "    dW = 2*error*(1-y_prob)*y_prob*xi\n",
        "    W = W - lr * dW\n",
        "\n",
        "\n",
        "W #setelah training"
      ],
      "metadata": {
        "colab": {
          "base_uri": "https://localhost:8080/"
        },
        "outputId": "b04eaee4-ecf1-4c98-9452-fb76bc678d7f",
        "id": "qpzxjhnXehQx"
      },
      "execution_count": 61,
      "outputs": [
        {
          "output_type": "execute_result",
          "data": {
            "text/plain": [
              "array([ 0.20446001, -0.45861294, -0.76341379,  1.41553874,  0.95986434])"
            ]
          },
          "metadata": {},
          "execution_count": 61
        }
      ]
    },
    {
      "cell_type": "code",
      "source": [
        "# evaluasi validasi setelah weight di update\n",
        "y_probs_test = predict_probs(X_test, W)\n",
        "y_preds_test = (y_probs_test >= 0.5).astype(int)\n",
        "val_loss = compute_loss(y_test, y_probs_test)\n",
        "val_acc = np.mean(y_preds_test == y_test)"
      ],
      "metadata": {
        "id": "WZXJeoTdehQx"
      },
      "execution_count": 62,
      "outputs": []
    },
    {
      "cell_type": "code",
      "source": [
        "#Simpan data setiap Epoch\n",
        "train_losses.append(train_loss)\n",
        "train_accs.append(train_acc)\n",
        "val_losses.append(val_loss)\n",
        "val_accs.append(val_acc)"
      ],
      "metadata": {
        "id": "Qt_L-UnqehQx"
      },
      "execution_count": 63,
      "outputs": []
    },
    {
      "cell_type": "markdown",
      "source": [
        "### Epoch 5"
      ],
      "metadata": {
        "id": "2P42GjzFehkA"
      }
    },
    {
      "cell_type": "code",
      "source": [
        "train_loss=0\n",
        "train_acc=0\n",
        "for xi, yi in zip(X_train, y_train):\n",
        "    y_prob = predict_probs(xi, W)\n",
        "    error = y_prob - yi\n",
        "    train_loss=train_loss+error*error\n",
        "\n",
        "    if(predict_labels(xi, W)==yi):\n",
        "      train_acc=train_acc+1/n_data\n",
        "\n",
        "\n",
        "    dW = 2*error*(1-y_prob)*y_prob*xi\n",
        "    W = W - lr * dW\n",
        "\n",
        "\n",
        "W #setelah training"
      ],
      "metadata": {
        "colab": {
          "base_uri": "https://localhost:8080/"
        },
        "outputId": "42a42a9b-d119-408d-fa20-edaafc07b4fb",
        "id": "jREYaBHVehkA"
      },
      "execution_count": 64,
      "outputs": [
        {
          "output_type": "execute_result",
          "data": {
            "text/plain": [
              "array([ 0.19309877, -0.47083788, -0.82670718,  1.51624651,  1.00459276])"
            ]
          },
          "metadata": {},
          "execution_count": 64
        }
      ]
    },
    {
      "cell_type": "code",
      "source": [
        "# evaluasi validasi setelah weight di update\n",
        "y_probs_test = predict_probs(X_test, W)\n",
        "y_preds_test = (y_probs_test >= 0.5).astype(int)\n",
        "val_loss = compute_loss(y_test, y_probs_test)\n",
        "val_acc = np.mean(y_preds_test == y_test)"
      ],
      "metadata": {
        "id": "uLYCnLpEehkA"
      },
      "execution_count": 65,
      "outputs": []
    },
    {
      "cell_type": "code",
      "source": [
        "#Simpan data setiap Epoch\n",
        "train_losses.append(train_loss)\n",
        "train_accs.append(train_acc)\n",
        "val_losses.append(val_loss)\n",
        "val_accs.append(val_acc)"
      ],
      "metadata": {
        "id": "gWxQYvpYehkA"
      },
      "execution_count": 66,
      "outputs": []
    },
    {
      "cell_type": "markdown",
      "source": [
        "## Visualisasi dan Train Loss"
      ],
      "metadata": {
        "id": "Wr2PVfTSe9tX"
      }
    },
    {
      "cell_type": "code",
      "source": [
        "epochs=5\n",
        "plt.figure(figsize=(12,5))\n",
        "\n",
        "plt.subplot(1,2,1)\n",
        "plt.plot(range(1, epochs+1), train_accs, label=\"Train Accuracy\")\n",
        "plt.plot(range(1, epochs+1), val_accs, label=\"Validation Accuracy\")\n",
        "\n",
        "for i in range(5):\n",
        "    plt.text(i+1, train_accs[i], f\"{train_accs[i]:.2f}\", ha='center', va='bottom', fontsize=8, color=\"blue\")\n",
        "    plt.text(i+1, val_accs[i], f\"{val_accs[i]:.2f}\", ha='center', va='bottom', fontsize=8, color=\"orange\")\n",
        "\n",
        "plt.xlabel(\"Epoch\")\n",
        "plt.ylabel(\"Accuracy\")\n",
        "plt.title(\"Accuracy per Epoch\")\n",
        "plt.legend()\n",
        "\n",
        "plt.subplot(1,2,2)\n",
        "plt.plot(range(1, epochs+1), train_losses, label=\"Train Loss\")\n",
        "plt.plot(range(1, epochs+1), val_losses, label=\"Validation Loss\")\n",
        "\n",
        "for i in range(5):\n",
        "    plt.text(i+1, train_losses[i], f\"{train_losses[i]:.2f}\", ha='center', va='bottom', fontsize=8, color=\"blue\")\n",
        "    plt.text(i+1, val_losses[i], f\"{val_losses[i]:.2f}\", ha='center', va='bottom', fontsize=8, color=\"orange\")\n",
        "\n",
        "plt.xlabel(\"Epoch\")\n",
        "plt.ylabel(\"Loss\")\n",
        "plt.title(\"Loss per Epoch\")\n",
        "plt.legend()\n",
        "\n",
        "plt.tight_layout()\n",
        "plt.show()"
      ],
      "metadata": {
        "colab": {
          "base_uri": "https://localhost:8080/",
          "height": 507
        },
        "id": "SzkBp7SVfIEy",
        "outputId": "dabbb95a-6e34-4de3-de52-8d8301ecccd4"
      },
      "execution_count": 67,
      "outputs": [
        {
          "output_type": "display_data",
          "data": {
            "text/plain": [
              "<Figure size 1200x500 with 2 Axes>"
            ],
            "image/png": "[encoded data removed]"
          },
          "metadata": {}
        }
      ]
    }
  ]
}